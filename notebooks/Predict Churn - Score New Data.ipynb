{
    "nbformat_minor": 1,
    "cells": [
        {
            "source": "## Customer Churn Model Scoring\n#### The objectives of this lab is:\n- score **new** customer data against a pre-built model\n- schedule the notebook to run via the Notebook scheduler\n\n### Step 1: Download new customer data",
            "cell_type": "markdown",
            "metadata": {}
        },
        {
            "source": "import wget\nurl_customer='https://raw.githubusercontent.com/yfphoon/dsx_demo/master/data/new_customer_churn_data.csv'\n\n#remove existing files before downloading\n!rm -f new_customer_churn_data.csv\n\ncustomerFilename=wget.download(url_customer)\n\n!ls -l new_customer_churn_data.csv",
            "cell_type": "code",
            "execution_count": 1,
            "outputs": [
                {
                    "output_type": "stream",
                    "name": "stdout",
                    "text": "-rw------- 1 s3b2-c7634938ff52ab-a5f39cf201a0 users 27597 Nov 15 17:53 new_customer_churn_data.csv\r\n"
                }
            ],
            "metadata": {}
        },
        {
            "source": "### Step 2: Read data into a Spark DataFrame\n**Note**: the new dataset does not contain the label column",
            "cell_type": "markdown",
            "metadata": {}
        },
        {
            "source": "from pyspark.sql import SparkSession\nspark = SparkSession.builder.getOrCreate()\n\nnewData= sqlContext.read\\\n    .format(\"org.apache.spark.sql.execution.datasources.csv.CSVFileFormat\")\\\n    .option(\"header\", \"true\")\\\n    .option(\"inferSchema\", \"true\")\\\n    .load(customerFilename)",
            "cell_type": "code",
            "execution_count": 2,
            "outputs": [],
            "metadata": {
                "collapsed": true
            }
        },
        {
            "source": "newData = newData.withColumnRenamed(\"Est Income\", \"EstIncome\").withColumnRenamed(\"Car Owner\",\"CarOwner\")\nnewData.toPandas().head()",
            "cell_type": "code",
            "execution_count": 3,
            "outputs": [
                {
                    "output_type": "execute_result",
                    "metadata": {},
                    "data": {
                        "text/plain": "     ID Gender Status  Children  EstIncome CarOwner        Age  LongDistance  \\\n0  2048      F      S         1    13576.5        N  39.426667         14.83   \n1  2054      F      M         2    84166.1        N  54.013333          3.28   \n2  2075      F      S         0    68427.4        N  42.393333         23.76   \n3  2095      F      M         2    77551.1        Y  33.600000         20.53   \n4  2108      F      S         1    13109.1        N  62.606667         22.38   \n\n   International  Local  Dropped Paymethod LocalBilltype LongDistanceBilltype  \\\n0              0  25.66        0        CC        Budget             Standard   \n1              0  11.74        1        CC        Budget             Standard   \n2              0  50.05        0      Auto     FreeLocal             Standard   \n3              0  41.89        1        CC        Budget       Intnl_discount   \n4              0  40.48        0      Auto        Budget             Standard   \n\n   Usage  RatePlan  \n0  40.49         1  \n1  15.02         2  \n2  73.81         3  \n3  62.42         2  \n4  62.87         1  ",
                        "text/html": "<div>\n<table border=\"1\" class=\"dataframe\">\n  <thead>\n    <tr style=\"text-align: right;\">\n      <th></th>\n      <th>ID</th>\n      <th>Gender</th>\n      <th>Status</th>\n      <th>Children</th>\n      <th>EstIncome</th>\n      <th>CarOwner</th>\n      <th>Age</th>\n      <th>LongDistance</th>\n      <th>International</th>\n      <th>Local</th>\n      <th>Dropped</th>\n      <th>Paymethod</th>\n      <th>LocalBilltype</th>\n      <th>LongDistanceBilltype</th>\n      <th>Usage</th>\n      <th>RatePlan</th>\n    </tr>\n  </thead>\n  <tbody>\n    <tr>\n      <th>0</th>\n      <td>2048</td>\n      <td>F</td>\n      <td>S</td>\n      <td>1</td>\n      <td>13576.5</td>\n      <td>N</td>\n      <td>39.426667</td>\n      <td>14.83</td>\n      <td>0</td>\n      <td>25.66</td>\n      <td>0</td>\n      <td>CC</td>\n      <td>Budget</td>\n      <td>Standard</td>\n      <td>40.49</td>\n      <td>1</td>\n    </tr>\n    <tr>\n      <th>1</th>\n      <td>2054</td>\n      <td>F</td>\n      <td>M</td>\n      <td>2</td>\n      <td>84166.1</td>\n      <td>N</td>\n      <td>54.013333</td>\n      <td>3.28</td>\n      <td>0</td>\n      <td>11.74</td>\n      <td>1</td>\n      <td>CC</td>\n      <td>Budget</td>\n      <td>Standard</td>\n      <td>15.02</td>\n      <td>2</td>\n    </tr>\n    <tr>\n      <th>2</th>\n      <td>2075</td>\n      <td>F</td>\n      <td>S</td>\n      <td>0</td>\n      <td>68427.4</td>\n      <td>N</td>\n      <td>42.393333</td>\n      <td>23.76</td>\n      <td>0</td>\n      <td>50.05</td>\n      <td>0</td>\n      <td>Auto</td>\n      <td>FreeLocal</td>\n      <td>Standard</td>\n      <td>73.81</td>\n      <td>3</td>\n    </tr>\n    <tr>\n      <th>3</th>\n      <td>2095</td>\n      <td>F</td>\n      <td>M</td>\n      <td>2</td>\n      <td>77551.1</td>\n      <td>Y</td>\n      <td>33.600000</td>\n      <td>20.53</td>\n      <td>0</td>\n      <td>41.89</td>\n      <td>1</td>\n      <td>CC</td>\n      <td>Budget</td>\n      <td>Intnl_discount</td>\n      <td>62.42</td>\n      <td>2</td>\n    </tr>\n    <tr>\n      <th>4</th>\n      <td>2108</td>\n      <td>F</td>\n      <td>S</td>\n      <td>1</td>\n      <td>13109.1</td>\n      <td>N</td>\n      <td>62.606667</td>\n      <td>22.38</td>\n      <td>0</td>\n      <td>40.48</td>\n      <td>0</td>\n      <td>Auto</td>\n      <td>Budget</td>\n      <td>Standard</td>\n      <td>62.87</td>\n      <td>1</td>\n    </tr>\n  </tbody>\n</table>\n</div>"
                    },
                    "execution_count": 3
                }
            ],
            "metadata": {}
        },
        {
            "source": "### Step 3: Load Saved Model",
            "cell_type": "markdown",
            "metadata": {}
        },
        {
            "source": "from pyspark.ml import PipelineModel\nmodel1_loaded = PipelineModel.load(\"PredictChurn.churnModel\")",
            "cell_type": "code",
            "execution_count": 4,
            "outputs": [],
            "metadata": {
                "collapsed": true
            }
        },
        {
            "source": "### Step 4: Score the new data\nNote: The scored output contains the predicted values and confidence scores",
            "cell_type": "markdown",
            "metadata": {}
        },
        {
            "source": "result = model1_loaded.transform(newData)",
            "cell_type": "code",
            "execution_count": 5,
            "outputs": [],
            "metadata": {
                "collapsed": true
            }
        },
        {
            "source": "### Step 5: Export Score into a csv file",
            "cell_type": "markdown",
            "metadata": {}
        },
        {
            "source": "#Select ID, prediction and probability fields from the result dataframe\n\nr1=result.select(result[\"ID\"],result[\"predictedLabel\"],result[\"prediction\"],result[\"probability\"])\nr1.toPandas().head(5)",
            "cell_type": "code",
            "execution_count": 6,
            "outputs": [
                {
                    "output_type": "execute_result",
                    "metadata": {},
                    "data": {
                        "text/plain": "     ID predictedLabel  prediction                        probability\n0  2048              T           1  [0.0173913043478, 0.982608695652]\n1  2054              T           1   [0.393257002801, 0.606742997199]\n2  2075              F           0  [0.942270779314, 0.0577292206856]\n3  2095              F           0  [0.976372888549, 0.0236271114506]\n4  2108              T           1                     [0.075, 0.925]",
                        "text/html": "<div>\n<table border=\"1\" class=\"dataframe\">\n  <thead>\n    <tr style=\"text-align: right;\">\n      <th></th>\n      <th>ID</th>\n      <th>predictedLabel</th>\n      <th>prediction</th>\n      <th>probability</th>\n    </tr>\n  </thead>\n  <tbody>\n    <tr>\n      <th>0</th>\n      <td>2048</td>\n      <td>T</td>\n      <td>1</td>\n      <td>[0.0173913043478, 0.982608695652]</td>\n    </tr>\n    <tr>\n      <th>1</th>\n      <td>2054</td>\n      <td>T</td>\n      <td>1</td>\n      <td>[0.393257002801, 0.606742997199]</td>\n    </tr>\n    <tr>\n      <th>2</th>\n      <td>2075</td>\n      <td>F</td>\n      <td>0</td>\n      <td>[0.942270779314, 0.0577292206856]</td>\n    </tr>\n    <tr>\n      <th>3</th>\n      <td>2095</td>\n      <td>F</td>\n      <td>0</td>\n      <td>[0.976372888549, 0.0236271114506]</td>\n    </tr>\n    <tr>\n      <th>4</th>\n      <td>2108</td>\n      <td>T</td>\n      <td>1</td>\n      <td>[0.075, 0.925]</td>\n    </tr>\n  </tbody>\n</table>\n</div>"
                    },
                    "execution_count": 6
                }
            ],
            "metadata": {}
        },
        {
            "source": "#### Decompose the probability column\nThe probability column contains a vector for each record, and the elements must be extracted",
            "cell_type": "markdown",
            "metadata": {}
        },
        {
            "source": "from pyspark.sql import Row\nfrom pyspark.sql.types import DoubleType\nfrom pyspark.sql.functions import udf\nfrom pyspark.ml.linalg import Vectors\n\nudf_0 = udf(lambda vector: float(vector[0]), DoubleType())\nudf_1 = udf(lambda vector: float(vector[1]), DoubleType())\n\nr2 = (r1.select(r1[\"ID\"], r1[\"prediction\"],r1[\"probability\"])\n    .withColumn('probability_0', udf_0(r1.probability))\n    .withColumn('probability_1', udf_1(r1.probability))\n    .drop(\"probability\"))\n\nr2.toPandas().head(10)",
            "cell_type": "code",
            "execution_count": 7,
            "outputs": [
                {
                    "output_type": "execute_result",
                    "metadata": {},
                    "data": {
                        "text/plain": "     ID  prediction  probability_0  probability_1\n0  2048           1       0.017391       0.982609\n1  2054           1       0.393257       0.606743\n2  2075           0       0.942271       0.057729\n3  2095           0       0.976373       0.023627\n4  2108           1       0.075000       0.925000\n5  2124           0       0.991906       0.008094\n6  2154           1       0.169812       0.830188\n7  2218           0       0.914364       0.085636\n8  2267           0       0.980574       0.019426\n9  2284           1       0.088492       0.911508",
                        "text/html": "<div>\n<table border=\"1\" class=\"dataframe\">\n  <thead>\n    <tr style=\"text-align: right;\">\n      <th></th>\n      <th>ID</th>\n      <th>prediction</th>\n      <th>probability_0</th>\n      <th>probability_1</th>\n    </tr>\n  </thead>\n  <tbody>\n    <tr>\n      <th>0</th>\n      <td>2048</td>\n      <td>1</td>\n      <td>0.017391</td>\n      <td>0.982609</td>\n    </tr>\n    <tr>\n      <th>1</th>\n      <td>2054</td>\n      <td>1</td>\n      <td>0.393257</td>\n      <td>0.606743</td>\n    </tr>\n    <tr>\n      <th>2</th>\n      <td>2075</td>\n      <td>0</td>\n      <td>0.942271</td>\n      <td>0.057729</td>\n    </tr>\n    <tr>\n      <th>3</th>\n      <td>2095</td>\n      <td>0</td>\n      <td>0.976373</td>\n      <td>0.023627</td>\n    </tr>\n    <tr>\n      <th>4</th>\n      <td>2108</td>\n      <td>1</td>\n      <td>0.075000</td>\n      <td>0.925000</td>\n    </tr>\n    <tr>\n      <th>5</th>\n      <td>2124</td>\n      <td>0</td>\n      <td>0.991906</td>\n      <td>0.008094</td>\n    </tr>\n    <tr>\n      <th>6</th>\n      <td>2154</td>\n      <td>1</td>\n      <td>0.169812</td>\n      <td>0.830188</td>\n    </tr>\n    <tr>\n      <th>7</th>\n      <td>2218</td>\n      <td>0</td>\n      <td>0.914364</td>\n      <td>0.085636</td>\n    </tr>\n    <tr>\n      <th>8</th>\n      <td>2267</td>\n      <td>0</td>\n      <td>0.980574</td>\n      <td>0.019426</td>\n    </tr>\n    <tr>\n      <th>9</th>\n      <td>2284</td>\n      <td>1</td>\n      <td>0.088492</td>\n      <td>0.911508</td>\n    </tr>\n  </tbody>\n</table>\n</div>"
                    },
                    "execution_count": 7
                }
            ],
            "metadata": {}
        },
        {
            "source": "",
            "cell_type": "code",
            "execution_count": null,
            "outputs": [],
            "metadata": {
                "collapsed": true
            }
        }
    ],
    "nbformat": 4,
    "metadata": {
        "kernelspec": {
            "display_name": "Python 2 with Spark 2.1",
            "name": "python2-spark21",
            "language": "python"
        },
        "language_info": {
            "mimetype": "text/x-python",
            "nbconvert_exporter": "python",
            "version": "2.7.11",
            "name": "python",
            "pygments_lexer": "ipython2",
            "file_extension": ".py",
            "codemirror_mode": {
                "version": 2,
                "name": "ipython"
            }
        }
    }
}