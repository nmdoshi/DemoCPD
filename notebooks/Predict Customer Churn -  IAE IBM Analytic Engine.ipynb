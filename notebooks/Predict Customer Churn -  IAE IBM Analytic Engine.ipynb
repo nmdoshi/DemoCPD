{
    "nbformat_minor": 1,
    "cells": [
        {
            "source": "## Predict Customer Churn Use Case Implementation\nThe objective is to follow the CRISP-DM methodology to build a model to predict customer churn\n![CRISP-DM](https://raw.githubusercontent.com/yfphoon/dsx_demo/master/crisp_dm.png)\n\n### Step 1: Download the customer churn data",
            "cell_type": "markdown",
            "metadata": {}
        },
        {
            "source": "#Run once to install the wget package\n!pip install wget",
            "cell_type": "code",
            "execution_count": 2,
            "outputs": [
                {
                    "output_type": "stream",
                    "name": "stdout",
                    "text": "Collecting wget\nInstalling collected packages: wget\nSuccessfully installed wget-3.2\n\u001b[33mTarget directory /home/wce/clsadmin/pipAnaconda2Packages/wget-3.2.dist-info already exists. Specify --upgrade to force replacement.\u001b[0m\n\u001b[33mTarget directory /home/wce/clsadmin/pipAnaconda2Packages/wget.py already exists. Specify --upgrade to force replacement.\u001b[0m\n\u001b[33mTarget directory /home/wce/clsadmin/pipAnaconda2Packages/wget.pyc already exists. Specify --upgrade to force replacement.\u001b[0m\n"
                }
            ],
            "metadata": {}
        },
        {
            "source": "# download data from GitHub repository\nimport wget\nurl_churn='https://raw.githubusercontent.com/yfphoon/dsx_demo/master/data/customer_churn/churn.csv'\nurl_customer='https://raw.githubusercontent.com/yfphoon/dsx_demo/master/data/customer_churn/customer.csv'\n\n#remove existing files before downloading\n!rm -f churn.csv\n!rm -f customer.csv\n\nchurnFilename=wget.download(url_churn)\ncustomerFilename=wget.download(url_customer)\n\n#list existing files\n!ls -l churn.csv\n!ls -l customer.csv\n\n#more files to hdfs\n!hdfs dfs -rm -skipTrash /user/clsadmin/churn.csv\n!hdfs dfs -rm -skipTrash /user/clsadmin/customer.csv\n\n!hdfs dfs -put churn.csv /user/clsadmin/churn.csv\n!hdfs dfs -put customer.csv /user/clsadmin/customer.csv\n\n#list files on hdfs\n!hdfs dfs -ls /user/clsadmin",
            "cell_type": "code",
            "execution_count": 31,
            "outputs": [
                {
                    "output_type": "stream",
                    "name": "stdout",
                    "text": "-rw-r--r--. 1 clsadmin biusers 20079 Mar 11 21:38 churn.csv\n-rw-r--r--. 1 clsadmin biusers 279541 Mar 11 21:38 customer.csv\nDeleted /user/clsadmin/churn.csv\nDeleted /user/clsadmin/customer.csv\nFound 3 items\ndrwx------   - clsadmin bihdfs          0 2018-03-11 21:38 /user/clsadmin/.Trash\n-rw-r--r--   3 clsadmin bihdfs      20079 2018-03-11 21:39 /user/clsadmin/churn.csv\n-rw-r--r--   3 clsadmin bihdfs     279541 2018-03-11 21:39 /user/clsadmin/customer.csv\n"
                }
            ],
            "metadata": {}
        },
        {
            "source": "### Step 2: Read data into Spark DataFrames\n\nNote: You want to reference the Spark DataFrame API to learn more about the supported operations, https://spark.apache.org/docs/2.0.0-preview/api/python/pyspark.sql.html#pyspark.sql.DataFrame",
            "cell_type": "markdown",
            "metadata": {}
        },
        {
            "source": "from pyspark.sql import SparkSession\nspark = SparkSession.builder.getOrCreate()\n\nchurn= spark.read\\\n  .format('org.apache.spark.sql.execution.datasources.csv.CSVFileFormat')\\\n  .option('header', 'true')\\\n  .option(\"inferSchema\", \"true\")\\\n  .load(\"churn.csv\")\n\ncustomer = spark.read\\\n    .format(\"org.apache.spark.sql.execution.datasources.csv.CSVFileFormat\")\\\n    .option(\"header\", \"true\")\\\n    .option(\"inferSchema\", \"true\")\\\n    .load(\"customer.csv\")",
            "cell_type": "code",
            "execution_count": 32,
            "outputs": [],
            "metadata": {}
        },
        {
            "source": "### Step 3: Merge Files\n",
            "cell_type": "markdown",
            "metadata": {}
        },
        {
            "source": "data=customer.join(churn,customer['ID']==churn['ID']).select(customer['*'],churn['CHURN'])\ndata.toPandas().head()",
            "cell_type": "code",
            "execution_count": 33,
            "outputs": [
                {
                    "output_type": "execute_result",
                    "metadata": {},
                    "data": {
                        "text/plain": "   ID Gender Status  Children  Est Income Car Owner        Age  LongDistance  \\\n0   1      F      S       1.0    38000.00         N  24.393333         23.56   \n1   6      M      M       2.0    29616.00         N  49.426667         29.78   \n2   8      M      M       0.0    19732.80         N  50.673333         24.81   \n3  11      M      S       2.0       96.33         N  56.473333         26.13   \n4  14      F      M       2.0    52004.80         N  25.140000          5.03   \n\n   International   Local  Dropped Paymethod LocalBilltype  \\\n0            0.0  206.08      0.0        CC        Budget   \n1            0.0   45.50      0.0        CH     FreeLocal   \n2            0.0   22.44      0.0        CC     FreeLocal   \n3            0.0   32.88      1.0        CC        Budget   \n4            0.0   23.11      0.0        CH        Budget   \n\n  LongDistanceBilltype   Usage  RatePlan CHURN  \n0       Intnl_discount  229.64       3.0     T  \n1             Standard   75.29       2.0     F  \n2             Standard   47.25       3.0     F  \n3             Standard   59.01       1.0     F  \n4       Intnl_discount   28.14       1.0     F  ",
                        "text/html": "<div>\n<table border=\"1\" class=\"dataframe\">\n  <thead>\n    <tr style=\"text-align: right;\">\n      <th></th>\n      <th>ID</th>\n      <th>Gender</th>\n      <th>Status</th>\n      <th>Children</th>\n      <th>Est Income</th>\n      <th>Car Owner</th>\n      <th>Age</th>\n      <th>LongDistance</th>\n      <th>International</th>\n      <th>Local</th>\n      <th>Dropped</th>\n      <th>Paymethod</th>\n      <th>LocalBilltype</th>\n      <th>LongDistanceBilltype</th>\n      <th>Usage</th>\n      <th>RatePlan</th>\n      <th>CHURN</th>\n    </tr>\n  </thead>\n  <tbody>\n    <tr>\n      <th>0</th>\n      <td>1</td>\n      <td>F</td>\n      <td>S</td>\n      <td>1.0</td>\n      <td>38000.00</td>\n      <td>N</td>\n      <td>24.393333</td>\n      <td>23.56</td>\n      <td>0.0</td>\n      <td>206.08</td>\n      <td>0.0</td>\n      <td>CC</td>\n      <td>Budget</td>\n      <td>Intnl_discount</td>\n      <td>229.64</td>\n      <td>3.0</td>\n      <td>T</td>\n    </tr>\n    <tr>\n      <th>1</th>\n      <td>6</td>\n      <td>M</td>\n      <td>M</td>\n      <td>2.0</td>\n      <td>29616.00</td>\n      <td>N</td>\n      <td>49.426667</td>\n      <td>29.78</td>\n      <td>0.0</td>\n      <td>45.50</td>\n      <td>0.0</td>\n      <td>CH</td>\n      <td>FreeLocal</td>\n      <td>Standard</td>\n      <td>75.29</td>\n      <td>2.0</td>\n      <td>F</td>\n    </tr>\n    <tr>\n      <th>2</th>\n      <td>8</td>\n      <td>M</td>\n      <td>M</td>\n      <td>0.0</td>\n      <td>19732.80</td>\n      <td>N</td>\n      <td>50.673333</td>\n      <td>24.81</td>\n      <td>0.0</td>\n      <td>22.44</td>\n      <td>0.0</td>\n      <td>CC</td>\n      <td>FreeLocal</td>\n      <td>Standard</td>\n      <td>47.25</td>\n      <td>3.0</td>\n      <td>F</td>\n    </tr>\n    <tr>\n      <th>3</th>\n      <td>11</td>\n      <td>M</td>\n      <td>S</td>\n      <td>2.0</td>\n      <td>96.33</td>\n      <td>N</td>\n      <td>56.473333</td>\n      <td>26.13</td>\n      <td>0.0</td>\n      <td>32.88</td>\n      <td>1.0</td>\n      <td>CC</td>\n      <td>Budget</td>\n      <td>Standard</td>\n      <td>59.01</td>\n      <td>1.0</td>\n      <td>F</td>\n    </tr>\n    <tr>\n      <th>4</th>\n      <td>14</td>\n      <td>F</td>\n      <td>M</td>\n      <td>2.0</td>\n      <td>52004.80</td>\n      <td>N</td>\n      <td>25.140000</td>\n      <td>5.03</td>\n      <td>0.0</td>\n      <td>23.11</td>\n      <td>0.0</td>\n      <td>CH</td>\n      <td>Budget</td>\n      <td>Intnl_discount</td>\n      <td>28.14</td>\n      <td>1.0</td>\n      <td>F</td>\n    </tr>\n  </tbody>\n</table>\n</div>"
                    },
                    "execution_count": 33
                }
            ],
            "metadata": {
                "scrolled": false
            }
        },
        {
            "source": "### Step 4: Rename some columns\nThis step is not a requirement, it just makes some columns names simpler to type with no spaces",
            "cell_type": "markdown",
            "metadata": {}
        },
        {
            "source": "# withColumnRenamed renames an existing column in a SparkDataFrame and returns a new SparkDataFrame\n\ndata = data.withColumnRenamed(\"Est Income\", \"EstIncome\").withColumnRenamed(\"Car Owner\",\"CarOwner\")\ndata.toPandas().head()",
            "cell_type": "code",
            "execution_count": 34,
            "outputs": [
                {
                    "output_type": "execute_result",
                    "metadata": {},
                    "data": {
                        "text/plain": "   ID Gender Status  Children  EstIncome CarOwner        Age  LongDistance  \\\n0   1      F      S       1.0   38000.00        N  24.393333         23.56   \n1   6      M      M       2.0   29616.00        N  49.426667         29.78   \n2   8      M      M       0.0   19732.80        N  50.673333         24.81   \n3  11      M      S       2.0      96.33        N  56.473333         26.13   \n4  14      F      M       2.0   52004.80        N  25.140000          5.03   \n\n   International   Local  Dropped Paymethod LocalBilltype  \\\n0            0.0  206.08      0.0        CC        Budget   \n1            0.0   45.50      0.0        CH     FreeLocal   \n2            0.0   22.44      0.0        CC     FreeLocal   \n3            0.0   32.88      1.0        CC        Budget   \n4            0.0   23.11      0.0        CH        Budget   \n\n  LongDistanceBilltype   Usage  RatePlan CHURN  \n0       Intnl_discount  229.64       3.0     T  \n1             Standard   75.29       2.0     F  \n2             Standard   47.25       3.0     F  \n3             Standard   59.01       1.0     F  \n4       Intnl_discount   28.14       1.0     F  ",
                        "text/html": "<div>\n<table border=\"1\" class=\"dataframe\">\n  <thead>\n    <tr style=\"text-align: right;\">\n      <th></th>\n      <th>ID</th>\n      <th>Gender</th>\n      <th>Status</th>\n      <th>Children</th>\n      <th>EstIncome</th>\n      <th>CarOwner</th>\n      <th>Age</th>\n      <th>LongDistance</th>\n      <th>International</th>\n      <th>Local</th>\n      <th>Dropped</th>\n      <th>Paymethod</th>\n      <th>LocalBilltype</th>\n      <th>LongDistanceBilltype</th>\n      <th>Usage</th>\n      <th>RatePlan</th>\n      <th>CHURN</th>\n    </tr>\n  </thead>\n  <tbody>\n    <tr>\n      <th>0</th>\n      <td>1</td>\n      <td>F</td>\n      <td>S</td>\n      <td>1.0</td>\n      <td>38000.00</td>\n      <td>N</td>\n      <td>24.393333</td>\n      <td>23.56</td>\n      <td>0.0</td>\n      <td>206.08</td>\n      <td>0.0</td>\n      <td>CC</td>\n      <td>Budget</td>\n      <td>Intnl_discount</td>\n      <td>229.64</td>\n      <td>3.0</td>\n      <td>T</td>\n    </tr>\n    <tr>\n      <th>1</th>\n      <td>6</td>\n      <td>M</td>\n      <td>M</td>\n      <td>2.0</td>\n      <td>29616.00</td>\n      <td>N</td>\n      <td>49.426667</td>\n      <td>29.78</td>\n      <td>0.0</td>\n      <td>45.50</td>\n      <td>0.0</td>\n      <td>CH</td>\n      <td>FreeLocal</td>\n      <td>Standard</td>\n      <td>75.29</td>\n      <td>2.0</td>\n      <td>F</td>\n    </tr>\n    <tr>\n      <th>2</th>\n      <td>8</td>\n      <td>M</td>\n      <td>M</td>\n      <td>0.0</td>\n      <td>19732.80</td>\n      <td>N</td>\n      <td>50.673333</td>\n      <td>24.81</td>\n      <td>0.0</td>\n      <td>22.44</td>\n      <td>0.0</td>\n      <td>CC</td>\n      <td>FreeLocal</td>\n      <td>Standard</td>\n      <td>47.25</td>\n      <td>3.0</td>\n      <td>F</td>\n    </tr>\n    <tr>\n      <th>3</th>\n      <td>11</td>\n      <td>M</td>\n      <td>S</td>\n      <td>2.0</td>\n      <td>96.33</td>\n      <td>N</td>\n      <td>56.473333</td>\n      <td>26.13</td>\n      <td>0.0</td>\n      <td>32.88</td>\n      <td>1.0</td>\n      <td>CC</td>\n      <td>Budget</td>\n      <td>Standard</td>\n      <td>59.01</td>\n      <td>1.0</td>\n      <td>F</td>\n    </tr>\n    <tr>\n      <th>4</th>\n      <td>14</td>\n      <td>F</td>\n      <td>M</td>\n      <td>2.0</td>\n      <td>52004.80</td>\n      <td>N</td>\n      <td>25.140000</td>\n      <td>5.03</td>\n      <td>0.0</td>\n      <td>23.11</td>\n      <td>0.0</td>\n      <td>CH</td>\n      <td>Budget</td>\n      <td>Intnl_discount</td>\n      <td>28.14</td>\n      <td>1.0</td>\n      <td>F</td>\n    </tr>\n  </tbody>\n</table>\n</div>"
                    },
                    "execution_count": 34
                }
            ],
            "metadata": {}
        },
        {
            "source": "### Step 5: Data understanding",
            "cell_type": "markdown",
            "metadata": {}
        },
        {
            "source": "### Dataset Overview",
            "cell_type": "markdown",
            "metadata": {}
        },
        {
            "source": "df_pandas = data.toPandas()\nprint \"There are \" + str(len(df_pandas)) + \" observations in the customer history dataset.\"\nprint \"There are \" + str(len(df_pandas.columns)) + \" variables in the dataset.\"\n\nprint \"\\n******************Descriptive statistics*****************************\\n\"\nprint df_pandas.drop(['ID'], axis = 1).describe()\n",
            "cell_type": "code",
            "execution_count": 35,
            "outputs": [
                {
                    "output_type": "stream",
                    "name": "stdout",
                    "text": "There are 2066 observations in the customer history dataset.\nThere are 17 variables in the dataset.\n\n******************Descriptive statistics*****************************\n\n          Children      EstIncome          Age  LongDistance  International  \\\ncount  2066.000000    2066.000000  2066.000000   2066.000000    2066.000000   \nmean      1.146176   51514.070465    42.783982     16.122076       1.191104   \nstd       0.843105   30805.652721    14.894693      9.874795       2.602010   \nmin       0.000000      96.330000    12.326667      0.000000       0.000000   \n25%       0.000000   21021.600000    30.356667      8.090000       0.000000   \n50%       1.000000   55860.000000    45.526667     16.140000       0.000000   \n75%       2.000000   78000.000000    54.013333     22.990000       0.000000   \nmax       2.000000  120000.000000    77.000000     59.000000       9.700000   \n\n             Local      Dropped        Usage     RatePlan  \ncount  2066.000000  2066.000000  2066.000000  2066.000000  \nmean     59.158025     0.136012    75.907696     2.510649  \nstd      57.571428     0.526665    59.787475     1.124731  \nmin       0.680000     0.000000     0.680000     1.000000  \n25%      15.177500     0.000000    34.190000     2.000000  \n50%      39.845000     0.000000    57.110000     2.000000  \n75%      87.460000     0.000000   107.020000     4.000000  \nmax     332.460000     4.000000   361.880000     4.000000  \n"
                }
            ],
            "metadata": {}
        },
        {
            "source": "### Interactive query with Spark SQL",
            "cell_type": "markdown",
            "metadata": {}
        },
        {
            "source": "# Spark SQL also allow you to use standard SQL\ndata.createOrReplaceTempView(\"data\")\nsql = \"\"\"\nSELECT c.*\nFROM data c\nWHERE c.EstIncome>90000\n\n\"\"\"\nspark.sql(sql).toPandas().head()",
            "cell_type": "code",
            "execution_count": 36,
            "outputs": [
                {
                    "output_type": "execute_result",
                    "metadata": {},
                    "data": {
                        "text/plain": "    ID Gender Status  Children  EstIncome CarOwner        Age  LongDistance  \\\n0   61      M      S       2.0   100020.0        N  50.000000         21.37   \n1   79      F      S       0.0    98716.3        N  55.660000         20.97   \n2   87      M      M       1.0    97180.4        N  50.600000          8.21   \n3  109      M      S       1.0    92647.5        N  56.046667         16.04   \n4  148      M      M       2.0    91272.2        Y  25.033333         26.99   \n\n   International   Local  Dropped Paymethod LocalBilltype  \\\n0           0.00  293.24      0.0        CH        Budget   \n1           8.23   13.92      0.0        CC     FreeLocal   \n2           9.63   45.66      0.0        CC     FreeLocal   \n3           5.74   10.34      0.0        CC        Budget   \n4           0.00   13.01      0.0        CC     FreeLocal   \n\n  LongDistanceBilltype   Usage  RatePlan CHURN  \n0             Standard  314.62       4.0     T  \n1             Standard   43.13       4.0     T  \n2             Standard   63.51       4.0     T  \n3             Standard   32.13       4.0     T  \n4             Standard   40.00       3.0     F  ",
                        "text/html": "<div>\n<table border=\"1\" class=\"dataframe\">\n  <thead>\n    <tr style=\"text-align: right;\">\n      <th></th>\n      <th>ID</th>\n      <th>Gender</th>\n      <th>Status</th>\n      <th>Children</th>\n      <th>EstIncome</th>\n      <th>CarOwner</th>\n      <th>Age</th>\n      <th>LongDistance</th>\n      <th>International</th>\n      <th>Local</th>\n      <th>Dropped</th>\n      <th>Paymethod</th>\n      <th>LocalBilltype</th>\n      <th>LongDistanceBilltype</th>\n      <th>Usage</th>\n      <th>RatePlan</th>\n      <th>CHURN</th>\n    </tr>\n  </thead>\n  <tbody>\n    <tr>\n      <th>0</th>\n      <td>61</td>\n      <td>M</td>\n      <td>S</td>\n      <td>2.0</td>\n      <td>100020.0</td>\n      <td>N</td>\n      <td>50.000000</td>\n      <td>21.37</td>\n      <td>0.00</td>\n      <td>293.24</td>\n      <td>0.0</td>\n      <td>CH</td>\n      <td>Budget</td>\n      <td>Standard</td>\n      <td>314.62</td>\n      <td>4.0</td>\n      <td>T</td>\n    </tr>\n    <tr>\n      <th>1</th>\n      <td>79</td>\n      <td>F</td>\n      <td>S</td>\n      <td>0.0</td>\n      <td>98716.3</td>\n      <td>N</td>\n      <td>55.660000</td>\n      <td>20.97</td>\n      <td>8.23</td>\n      <td>13.92</td>\n      <td>0.0</td>\n      <td>CC</td>\n      <td>FreeLocal</td>\n      <td>Standard</td>\n      <td>43.13</td>\n      <td>4.0</td>\n      <td>T</td>\n    </tr>\n    <tr>\n      <th>2</th>\n      <td>87</td>\n      <td>M</td>\n      <td>M</td>\n      <td>1.0</td>\n      <td>97180.4</td>\n      <td>N</td>\n      <td>50.600000</td>\n      <td>8.21</td>\n      <td>9.63</td>\n      <td>45.66</td>\n      <td>0.0</td>\n      <td>CC</td>\n      <td>FreeLocal</td>\n      <td>Standard</td>\n      <td>63.51</td>\n      <td>4.0</td>\n      <td>T</td>\n    </tr>\n    <tr>\n      <th>3</th>\n      <td>109</td>\n      <td>M</td>\n      <td>S</td>\n      <td>1.0</td>\n      <td>92647.5</td>\n      <td>N</td>\n      <td>56.046667</td>\n      <td>16.04</td>\n      <td>5.74</td>\n      <td>10.34</td>\n      <td>0.0</td>\n      <td>CC</td>\n      <td>Budget</td>\n      <td>Standard</td>\n      <td>32.13</td>\n      <td>4.0</td>\n      <td>T</td>\n    </tr>\n    <tr>\n      <th>4</th>\n      <td>148</td>\n      <td>M</td>\n      <td>M</td>\n      <td>2.0</td>\n      <td>91272.2</td>\n      <td>Y</td>\n      <td>25.033333</td>\n      <td>26.99</td>\n      <td>0.00</td>\n      <td>13.01</td>\n      <td>0.0</td>\n      <td>CC</td>\n      <td>FreeLocal</td>\n      <td>Standard</td>\n      <td>40.00</td>\n      <td>3.0</td>\n      <td>F</td>\n    </tr>\n  </tbody>\n</table>\n</div>"
                    },
                    "execution_count": 36
                }
            ],
            "metadata": {}
        },
        {
            "source": "### Step 6: Build the Spark pipeline and the Random Forest model\n\"Pipeline\" is an API in SparkML that's used for building models. A pipeline defines a sequence of transformers and estimators to perform tha analysis in stages.<br/>\nAdditional information on SparkML: https://spark.apache.org/docs/2.0.2/ml-guide.html",
            "cell_type": "markdown",
            "metadata": {}
        },
        {
            "source": "from pyspark.ml.feature import OneHotEncoder, StringIndexer, VectorIndexer, IndexToString\nfrom pyspark.ml import Pipeline\nfrom pyspark.ml.feature import VectorAssembler\nfrom pyspark.ml.classification import RandomForestClassifier\n\n# StringIndexer encodes a string column of labels to a column of label indices. \nSI1 = StringIndexer(inputCol='Gender', outputCol='GenderEncoded')\nSI2 = StringIndexer(inputCol='Status',outputCol='StatusEncoded')\nSI3 = StringIndexer(inputCol='CarOwner',outputCol='CarOwnerEncoded')\nSI4 = StringIndexer(inputCol='Paymethod',outputCol='PaymethodEncoded')\nSI5 = StringIndexer(inputCol='LocalBilltype',outputCol='LocalBilltypeEncoded')\nSI6 = StringIndexer(inputCol='LongDistanceBilltype',outputCol='LongDistanceBilltypeEncoded')\n\n# Pipelines API requires that input variables are passed in  a vector\nassembler = VectorAssembler(inputCols=[\"GenderEncoded\", \"StatusEncoded\", \"CarOwnerEncoded\", \"PaymethodEncoded\", \"LocalBilltypeEncoded\", \\\n                                       \"LongDistanceBilltypeEncoded\", \"Children\", \"EstIncome\", \"Age\", \"LongDistance\", \"International\", \"Local\",\\\n                                      \"Dropped\",\"Usage\",\"RatePlan\"], outputCol=\"features\")",
            "cell_type": "code",
            "execution_count": 37,
            "outputs": [],
            "metadata": {}
        },
        {
            "source": "# encode the label column\nlabelIndexer = StringIndexer(inputCol='CHURN', outputCol='label').fit(data)",
            "cell_type": "code",
            "execution_count": 38,
            "outputs": [],
            "metadata": {}
        },
        {
            "source": "# instantiate the algorithm, take the default settings\nrf=RandomForestClassifier(labelCol=\"label\", featuresCol=\"features\")",
            "cell_type": "code",
            "execution_count": 39,
            "outputs": [],
            "metadata": {}
        },
        {
            "source": "# Convert indexed labels back to original labels.\nlabelConverter = IndexToString(inputCol=\"prediction\", outputCol=\"predictedLabel\", labels=labelIndexer.labels)",
            "cell_type": "code",
            "execution_count": 40,
            "outputs": [],
            "metadata": {}
        },
        {
            "source": "# build the pipeline\npipeline = Pipeline(stages=[SI1,SI2,SI3,SI4,SI5,SI6, labelIndexer, assembler, rf, labelConverter])",
            "cell_type": "code",
            "execution_count": 41,
            "outputs": [],
            "metadata": {}
        },
        {
            "source": "# Split data into train and test datasets\n(trainingData, testingData) = data.randomSplit([0.7, 0.3],seed=9)\ntrainingData.cache()\ntestingData.cache()",
            "cell_type": "code",
            "execution_count": 42,
            "outputs": [
                {
                    "output_type": "execute_result",
                    "metadata": {},
                    "data": {
                        "text/plain": "DataFrame[ID: int, Gender: string, Status: string, Children: double, EstIncome: double, CarOwner: string, Age: double, LongDistance: double, International: double, Local: double, Dropped: double, Paymethod: string, LocalBilltype: string, LongDistanceBilltype: string, Usage: double, RatePlan: double, CHURN: string]"
                    },
                    "execution_count": 42
                }
            ],
            "metadata": {}
        },
        {
            "source": "# Build model. The fitted model from a Pipeline is a PipelineModel, which consists of fitted models and transformers, corresponding to the pipeline stages.\nmodel = pipeline.fit(trainingData)",
            "cell_type": "code",
            "execution_count": 43,
            "outputs": [],
            "metadata": {}
        },
        {
            "source": "### Step 7: Score the test data set",
            "cell_type": "markdown",
            "metadata": {
                "collapsed": true
            }
        },
        {
            "source": "result=model.transform(testingData)\nresult_display=result.select(result[\"ID\"],result[\"CHURN\"],result[\"Label\"],result[\"predictedLabel\"],result[\"prediction\"],result[\"probability\"])\nresult_display.toPandas().head(6)",
            "cell_type": "code",
            "execution_count": 44,
            "outputs": [
                {
                    "output_type": "execute_result",
                    "metadata": {},
                    "data": {
                        "text/plain": "   ID CHURN  Label predictedLabel  prediction  \\\n0   1     T    1.0              T         1.0   \n1  18     F    0.0              F         0.0   \n2  22     F    0.0              F         0.0   \n3  23     F    0.0              F         0.0   \n4  29     T    1.0              T         1.0   \n5  40     T    1.0              T         1.0   \n\n                         probability  \n0  [0.0911049116615, 0.908895088339]  \n1   [0.515971874789, 0.484028125211]  \n2   [0.804061159092, 0.195938840908]  \n3  [0.948573113057, 0.0514268869434]  \n4   [0.312898774928, 0.687101225072]  \n5   [0.176992984893, 0.823007015107]  ",
                        "text/html": "<div>\n<table border=\"1\" class=\"dataframe\">\n  <thead>\n    <tr style=\"text-align: right;\">\n      <th></th>\n      <th>ID</th>\n      <th>CHURN</th>\n      <th>Label</th>\n      <th>predictedLabel</th>\n      <th>prediction</th>\n      <th>probability</th>\n    </tr>\n  </thead>\n  <tbody>\n    <tr>\n      <th>0</th>\n      <td>1</td>\n      <td>T</td>\n      <td>1.0</td>\n      <td>T</td>\n      <td>1.0</td>\n      <td>[0.0911049116615, 0.908895088339]</td>\n    </tr>\n    <tr>\n      <th>1</th>\n      <td>18</td>\n      <td>F</td>\n      <td>0.0</td>\n      <td>F</td>\n      <td>0.0</td>\n      <td>[0.515971874789, 0.484028125211]</td>\n    </tr>\n    <tr>\n      <th>2</th>\n      <td>22</td>\n      <td>F</td>\n      <td>0.0</td>\n      <td>F</td>\n      <td>0.0</td>\n      <td>[0.804061159092, 0.195938840908]</td>\n    </tr>\n    <tr>\n      <th>3</th>\n      <td>23</td>\n      <td>F</td>\n      <td>0.0</td>\n      <td>F</td>\n      <td>0.0</td>\n      <td>[0.948573113057, 0.0514268869434]</td>\n    </tr>\n    <tr>\n      <th>4</th>\n      <td>29</td>\n      <td>T</td>\n      <td>1.0</td>\n      <td>T</td>\n      <td>1.0</td>\n      <td>[0.312898774928, 0.687101225072]</td>\n    </tr>\n    <tr>\n      <th>5</th>\n      <td>40</td>\n      <td>T</td>\n      <td>1.0</td>\n      <td>T</td>\n      <td>1.0</td>\n      <td>[0.176992984893, 0.823007015107]</td>\n    </tr>\n  </tbody>\n</table>\n</div>"
                    },
                    "execution_count": 44
                }
            ],
            "metadata": {}
        },
        {
            "source": "### Step 8: Model Evaluation\nFind accuracy of the models and the Area Under the ROC Curve ",
            "cell_type": "markdown",
            "metadata": {}
        },
        {
            "source": "print 'Model Accuracy = {:.2f}.'.format(result.filter(result.label == result.prediction).count() / float(result.count()))",
            "cell_type": "code",
            "execution_count": 45,
            "outputs": [
                {
                    "output_type": "stream",
                    "name": "stdout",
                    "text": "Model Accuracy = 0.93.\n"
                }
            ],
            "metadata": {}
        },
        {
            "source": "from pyspark.ml.evaluation import BinaryClassificationEvaluator\n\n# Evaluate model\nevaluator = BinaryClassificationEvaluator(rawPredictionCol=\"prediction\", labelCol=\"label\", metricName=\"areaUnderROC\")\nprint 'Area under ROC curve = {:.2f}.'.format(evaluator.evaluate(result))",
            "cell_type": "code",
            "execution_count": 46,
            "outputs": [
                {
                    "output_type": "stream",
                    "name": "stdout",
                    "text": "Area under ROC curve = 0.92.\n"
                }
            ],
            "metadata": {}
        },
        {
            "source": "###  Step 9:  Tune the model to find the best model",
            "cell_type": "markdown",
            "metadata": {}
        },
        {
            "source": "#### Build a Parameter Grid specifying the parameters to be evaluated to determine the best combination",
            "cell_type": "markdown",
            "metadata": {}
        },
        {
            "source": "# set different levels for the maxDepth\nfrom pyspark.ml.tuning import ParamGridBuilder, CrossValidator\nparamGrid = (ParamGridBuilder().addGrid(rf.maxDepth,[4,6,8]).build())",
            "cell_type": "code",
            "execution_count": 47,
            "outputs": [],
            "metadata": {}
        },
        {
            "source": "#### Create a cross validator to tune the pipeline with the generated parameter grid\nCross-validation attempts to fit the underlying estimator with user-specified combinations of parameters, cross-evaluate the fitted models, and output the best one.",
            "cell_type": "markdown",
            "metadata": {}
        },
        {
            "source": "# perform 3 fold cross validation\ncv = CrossValidator().setEstimator(pipeline).setEvaluator(evaluator).setEstimatorParamMaps(paramGrid).setNumFolds(3)",
            "cell_type": "code",
            "execution_count": 48,
            "outputs": [],
            "metadata": {}
        },
        {
            "source": "# train the model\ncvModel = cv.fit(trainingData)\n\n# pick the best model\nbest_rfModel = cvModel.bestModel",
            "cell_type": "code",
            "execution_count": 49,
            "outputs": [],
            "metadata": {}
        },
        {
            "source": "# score the test data set with the best model\ncvresult=best_rfModel.transform(testingData)\ncvresults_show=cvresult.select(cvresult[\"ID\"],cvresult[\"CHURN\"],cvresult[\"Label\"],cvresult[\"predictedLabel\"],cvresult[\"prediction\"],cvresult[\"probability\"])\ncvresults_show.toPandas().head()",
            "cell_type": "code",
            "execution_count": 50,
            "outputs": [
                {
                    "output_type": "execute_result",
                    "metadata": {},
                    "data": {
                        "text/plain": "   ID CHURN  Label predictedLabel  prediction  \\\n0   1     T    1.0              T         1.0   \n1  18     F    0.0              F         0.0   \n2  22     F    0.0              F         0.0   \n3  23     F    0.0              F         0.0   \n4  29     T    1.0              T         1.0   \n\n                         probability  \n0  [0.0120340028189, 0.987965997181]  \n1   [0.947987012987, 0.052012987013]  \n2  [0.915591508475, 0.0844084915245]  \n3                         [1.0, 0.0]  \n4  [0.0513134356464, 0.948686564354]  ",
                        "text/html": "<div>\n<table border=\"1\" class=\"dataframe\">\n  <thead>\n    <tr style=\"text-align: right;\">\n      <th></th>\n      <th>ID</th>\n      <th>CHURN</th>\n      <th>Label</th>\n      <th>predictedLabel</th>\n      <th>prediction</th>\n      <th>probability</th>\n    </tr>\n  </thead>\n  <tbody>\n    <tr>\n      <th>0</th>\n      <td>1</td>\n      <td>T</td>\n      <td>1.0</td>\n      <td>T</td>\n      <td>1.0</td>\n      <td>[0.0120340028189, 0.987965997181]</td>\n    </tr>\n    <tr>\n      <th>1</th>\n      <td>18</td>\n      <td>F</td>\n      <td>0.0</td>\n      <td>F</td>\n      <td>0.0</td>\n      <td>[0.947987012987, 0.052012987013]</td>\n    </tr>\n    <tr>\n      <th>2</th>\n      <td>22</td>\n      <td>F</td>\n      <td>0.0</td>\n      <td>F</td>\n      <td>0.0</td>\n      <td>[0.915591508475, 0.0844084915245]</td>\n    </tr>\n    <tr>\n      <th>3</th>\n      <td>23</td>\n      <td>F</td>\n      <td>0.0</td>\n      <td>F</td>\n      <td>0.0</td>\n      <td>[1.0, 0.0]</td>\n    </tr>\n    <tr>\n      <th>4</th>\n      <td>29</td>\n      <td>T</td>\n      <td>1.0</td>\n      <td>T</td>\n      <td>1.0</td>\n      <td>[0.0513134356464, 0.948686564354]</td>\n    </tr>\n  </tbody>\n</table>\n</div>"
                    },
                    "execution_count": 50
                }
            ],
            "metadata": {}
        },
        {
            "source": "\nprint 'Model Accuracy of the best fitted model = {:.2f}.'.format(cvresult.filter(cvresult.label == cvresult.prediction).count()/ float(cvresult.count()))\nprint 'Model Accuracy of the default model = {:.2f}.'.format(result.filter(result.label == result.prediction).count() / float(result.count()))\nprint '   '\nprint('Area under the ROC curve of best fitted model = {:.2f}.'.format(evaluator.evaluate(cvresult)))\nprint 'Area under the ROC curve of the default model = {:.2f}.'.format(evaluator.evaluate(result))",
            "cell_type": "code",
            "execution_count": 51,
            "outputs": [
                {
                    "output_type": "stream",
                    "name": "stdout",
                    "text": "Model Accuracy of the best fitted model = 0.96.\nModel Accuracy of the default model = 0.93.\n   \nArea under the ROC curve of best fitted model = 0.96.\nArea under the ROC curve of the default model = 0.92.\n"
                }
            ],
            "metadata": {}
        },
        {
            "source": "",
            "cell_type": "code",
            "execution_count": null,
            "outputs": [],
            "metadata": {}
        }
    ],
    "nbformat": 4,
    "metadata": {
        "kernelspec": {
            "display_name": "Python 2.7 with Spark 2.1",
            "name": "python2-spark21",
            "language": "python"
        },
        "language_info": {
            "mimetype": "text/x-python",
            "nbconvert_exporter": "python",
            "version": "2.7.13",
            "name": "python",
            "pygments_lexer": "ipython2",
            "file_extension": ".py",
            "codemirror_mode": {
                "version": 2,
                "name": "ipython"
            }
        }
    }
}