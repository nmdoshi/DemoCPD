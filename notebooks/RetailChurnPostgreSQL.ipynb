{
    "nbformat_minor": 1,
    "cells": [
        {
            "source": "import pandas as pd\nimport psycopg2\n\n# @hidden_cell\n# This connection object is used to access your data and contains your credentials.\n# You might want to remove those credentials before you share your notebook.\nconn_string = 'host={} port={}  dbname={}  user={}  password={}'.format('169.45.189.35', 31870, 'churndb', 'user', 'password')\nconn_181528df43b34c298e1de823ac0326bb = psycopg2.connect(conn_string)\ndf = pd.read_sql('SELECT * from public.\"churn\"', con=conn_181528df43b34c298e1de823ac0326bb)\ndf.head()\n\n",
            "cell_type": "code",
            "execution_count": 26,
            "outputs": [
                {
                    "output_type": "execute_result",
                    "metadata": {},
                    "data": {
                        "text/html": "<div>\n<style scoped>\n    .dataframe tbody tr th:only-of-type {\n        vertical-align: middle;\n    }\n\n    .dataframe tbody tr th {\n        vertical-align: top;\n    }\n\n    .dataframe thead th {\n        text-align: right;\n    }\n</style>\n<table border=\"1\" class=\"dataframe\">\n  <thead>\n    <tr style=\"text-align: right;\">\n      <th></th>\n      <th>retire</th>\n      <th>mortgage</th>\n      <th>loc</th>\n      <th>gender</th>\n      <th>children</th>\n      <th>working</th>\n      <th>highmonval</th>\n      <th>agerange</th>\n      <th>frequency_score</th>\n      <th>prediction</th>\n      <th>probability</th>\n    </tr>\n  </thead>\n  <tbody>\n    <tr>\n      <th>0</th>\n      <td>1</td>\n      <td>Yes</td>\n      <td>Yes</td>\n      <td>Male</td>\n      <td>Yes</td>\n      <td>Yes</td>\n      <td>Yes</td>\n      <td>17 to 22</td>\n      <td>1</td>\n      <td>1</td>\n      <td>0.32192</td>\n    </tr>\n    <tr>\n      <th>1</th>\n      <td>0</td>\n      <td>Yes</td>\n      <td>Yes</td>\n      <td>Male</td>\n      <td>Yes</td>\n      <td>Yes</td>\n      <td>Yes</td>\n      <td>17 to 22</td>\n      <td>1</td>\n      <td>1</td>\n      <td>0.14383</td>\n    </tr>\n    <tr>\n      <th>2</th>\n      <td>1</td>\n      <td>Yes</td>\n      <td>Yes</td>\n      <td>Male</td>\n      <td>Yes</td>\n      <td>Yes</td>\n      <td>Yes</td>\n      <td>17 to 22</td>\n      <td>1</td>\n      <td>1</td>\n      <td>0.32192</td>\n    </tr>\n    <tr>\n      <th>3</th>\n      <td>0</td>\n      <td>Yes</td>\n      <td>Yes</td>\n      <td>Male</td>\n      <td>Yes</td>\n      <td>Yes</td>\n      <td>Yes</td>\n      <td>17 to 22</td>\n      <td>1</td>\n      <td>1</td>\n      <td>0.14383</td>\n    </tr>\n    <tr>\n      <th>4</th>\n      <td>1</td>\n      <td>Yes</td>\n      <td>Yes</td>\n      <td>Male</td>\n      <td>Yes</td>\n      <td>Yes</td>\n      <td>Yes</td>\n      <td>17 to 22</td>\n      <td>1</td>\n      <td>1</td>\n      <td>0.32192</td>\n    </tr>\n  </tbody>\n</table>\n</div>",
                        "text/plain": "   retire mortgage  loc gender children working highmonval  agerange  \\\n0       1      Yes  Yes   Male      Yes     Yes        Yes  17 to 22   \n1       0      Yes  Yes   Male      Yes     Yes        Yes  17 to 22   \n2       1      Yes  Yes   Male      Yes     Yes        Yes  17 to 22   \n3       0      Yes  Yes   Male      Yes     Yes        Yes  17 to 22   \n4       1      Yes  Yes   Male      Yes     Yes        Yes  17 to 22   \n\n   frequency_score  prediction  probability  \n0                1           1      0.32192  \n1                1           1      0.14383  \n2                1           1      0.32192  \n3                1           1      0.14383  \n4                1           1      0.32192  "
                    },
                    "execution_count": 26
                }
            ],
            "metadata": {}
        },
        {
            "source": "df.groupby(['gender'])['prediction'].mean()",
            "cell_type": "code",
            "execution_count": 28,
            "outputs": [
                {
                    "output_type": "execute_result",
                    "metadata": {},
                    "data": {
                        "text/plain": "gender\nFemale    1\nMale      1\nName: prediction, dtype: int64"
                    },
                    "execution_count": 28
                }
            ],
            "metadata": {}
        },
        {
            "source": "df.groupby(['id', 'mth']).sum().reset_index().groupby('id').mean()  ",
            "cell_type": "code",
            "execution_count": null,
            "outputs": [],
            "metadata": {}
        },
        {
            "source": "df.groupby(['gender'])['prediction'].mean()",
            "cell_type": "code",
            "execution_count": 55,
            "outputs": [
                {
                    "output_type": "execute_result",
                    "metadata": {},
                    "data": {
                        "text/plain": "gender\nFemale    1\nMale      1\nName: prediction, dtype: int64"
                    },
                    "execution_count": 55
                }
            ],
            "metadata": {}
        },
        {
            "source": "import matplotlib.pyplot as plt\n\n# a scatter plot comparing gender and churn prediction\ndf.plot(kind='scatter',x='gener',y='df.groupby(['gender'])['prediction'].mean(),color='blue')\nplt.show()\n",
            "cell_type": "code",
            "execution_count": 23,
            "outputs": [
                {
                    "output_type": "error",
                    "evalue": "invalid syntax (<ipython-input-23-517bc6c715dc>, line 4)",
                    "traceback": [
                        "\u001b[0;36m  File \u001b[0;32m\"<ipython-input-23-517bc6c715dc>\"\u001b[0;36m, line \u001b[0;32m4\u001b[0m\n\u001b[0;31m    df.plot(kind='scatter',x='gener',y='df.groupby(['gender'])['prediction'].mean(),color='blue')\u001b[0m\n\u001b[0m                                                          ^\u001b[0m\n\u001b[0;31mSyntaxError\u001b[0m\u001b[0;31m:\u001b[0m invalid syntax\n"
                    ],
                    "ename": "SyntaxError"
                }
            ],
            "metadata": {}
        },
        {
            "source": "",
            "cell_type": "code",
            "execution_count": null,
            "outputs": [],
            "metadata": {}
        }
    ],
    "nbformat": 4,
    "metadata": {
        "kernelspec": {
            "display_name": "Python 3.5",
            "name": "python3",
            "language": "python"
        },
        "language_info": {
            "mimetype": "text/x-python",
            "nbconvert_exporter": "python",
            "version": "3.5.5",
            "name": "python",
            "pygments_lexer": "ipython3",
            "file_extension": ".py",
            "codemirror_mode": {
                "version": 3,
                "name": "ipython"
            }
        }
    }
}