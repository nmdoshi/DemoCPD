{
    "nbformat_minor": 1,
    "cells": [
        {
            "source": "# Upgrade pandas and sklearn packages to latest versions",
            "cell_type": "markdown",
            "metadata": {
                "collapsed": true
            }
        },
        {
            "source": "# Upgrade pandas to latest version\n#!pip install pandas --upgrade\n# Upgrade scikit-learn to latest version\n#!pip install sklearn --upgrade",
            "cell_type": "code",
            "execution_count": 1,
            "outputs": [],
            "metadata": {}
        },
        {
            "source": "# Import packages and verify versions",
            "cell_type": "markdown",
            "metadata": {}
        },
        {
            "source": "import pandas as pd\nimport sklearn\nprint('The pandas version is {}.'.format(pd.__version__))\nprint('The scikit-learn version is {}.'.format(sklearn.__version__))",
            "cell_type": "code",
            "execution_count": 2,
            "outputs": [
                {
                    "output_type": "stream",
                    "name": "stdout",
                    "text": "The pandas version is 0.21.0.\nThe scikit-learn version is 0.19.1.\n"
                }
            ],
            "metadata": {}
        },
        {
            "source": "# Load data",
            "cell_type": "markdown",
            "metadata": {}
        },
        {
            "source": "url_customers = 'https://ibm.box.com/shared/static/gwak77ibs1zy7i5foza03f9u7zcdgn6j.csv'\nurl_transactions = 'https://ibm.box.com/shared/static/zjx66wjdtl02gi9rr2nmal2po4eqaxtc.csv'",
            "cell_type": "code",
            "execution_count": 3,
            "outputs": [],
            "metadata": {}
        },
        {
            "source": "customers = pd.read_table(url_customers,sep=',')\ntransactions = pd.read_table(url_transactions,sep=',')",
            "cell_type": "code",
            "execution_count": 4,
            "outputs": [],
            "metadata": {}
        },
        {
            "source": "customers.columns = [col.replace(' ', '') for col in customers.columns]\ntransactions.columns = [col.replace(' ', '') for col in transactions.columns]",
            "cell_type": "code",
            "execution_count": 5,
            "outputs": [],
            "metadata": {}
        },
        {
            "source": "pd.set_option('display.max_columns', None)\ncustomers.head()",
            "cell_type": "code",
            "execution_count": 6,
            "outputs": [
                {
                    "output_type": "execute_result",
                    "metadata": {},
                    "data": {
                        "text/plain": "   CustomerID  Retire Invest Educ Mortgage LOC  GENDER    MARITAL CHILDREN  \\\n0         787     0.0     No   No       No  No    Male     Single       No   \n1         789     0.0     No   No       No  No    Male     Single       No   \n2           1     NaN     No   No      Yes  No  Female    Widowed       No   \n3           2     NaN     No  Yes       No  No  Female  Separated       No   \n4           3     1.0     No  Yes      Yes  No    Male     Single       No   \n\n  WORKING HighMonVal  AgeRange  \n0     Yes         No  17 to 22  \n1     Yes         No  17 to 22  \n2     Yes        Yes  17 to 22  \n3     Yes        Yes  17 to 22  \n4     Yes         No  17 to 22  ",
                        "text/html": "<div>\n<style scoped>\n    .dataframe tbody tr th:only-of-type {\n        vertical-align: middle;\n    }\n\n    .dataframe tbody tr th {\n        vertical-align: top;\n    }\n\n    .dataframe thead th {\n        text-align: right;\n    }\n</style>\n<table border=\"1\" class=\"dataframe\">\n  <thead>\n    <tr style=\"text-align: right;\">\n      <th></th>\n      <th>CustomerID</th>\n      <th>Retire</th>\n      <th>Invest</th>\n      <th>Educ</th>\n      <th>Mortgage</th>\n      <th>LOC</th>\n      <th>GENDER</th>\n      <th>MARITAL</th>\n      <th>CHILDREN</th>\n      <th>WORKING</th>\n      <th>HighMonVal</th>\n      <th>AgeRange</th>\n    </tr>\n  </thead>\n  <tbody>\n    <tr>\n      <th>0</th>\n      <td>787</td>\n      <td>0.0</td>\n      <td>No</td>\n      <td>No</td>\n      <td>No</td>\n      <td>No</td>\n      <td>Male</td>\n      <td>Single</td>\n      <td>No</td>\n      <td>Yes</td>\n      <td>No</td>\n      <td>17 to 22</td>\n    </tr>\n    <tr>\n      <th>1</th>\n      <td>789</td>\n      <td>0.0</td>\n      <td>No</td>\n      <td>No</td>\n      <td>No</td>\n      <td>No</td>\n      <td>Male</td>\n      <td>Single</td>\n      <td>No</td>\n      <td>Yes</td>\n      <td>No</td>\n      <td>17 to 22</td>\n    </tr>\n    <tr>\n      <th>2</th>\n      <td>1</td>\n      <td>NaN</td>\n      <td>No</td>\n      <td>No</td>\n      <td>Yes</td>\n      <td>No</td>\n      <td>Female</td>\n      <td>Widowed</td>\n      <td>No</td>\n      <td>Yes</td>\n      <td>Yes</td>\n      <td>17 to 22</td>\n    </tr>\n    <tr>\n      <th>3</th>\n      <td>2</td>\n      <td>NaN</td>\n      <td>No</td>\n      <td>Yes</td>\n      <td>No</td>\n      <td>No</td>\n      <td>Female</td>\n      <td>Separated</td>\n      <td>No</td>\n      <td>Yes</td>\n      <td>Yes</td>\n      <td>17 to 22</td>\n    </tr>\n    <tr>\n      <th>4</th>\n      <td>3</td>\n      <td>1.0</td>\n      <td>No</td>\n      <td>Yes</td>\n      <td>Yes</td>\n      <td>No</td>\n      <td>Male</td>\n      <td>Single</td>\n      <td>No</td>\n      <td>Yes</td>\n      <td>No</td>\n      <td>17 to 22</td>\n    </tr>\n  </tbody>\n</table>\n</div>"
                    },
                    "execution_count": 6
                }
            ],
            "metadata": {}
        },
        {
            "source": "transactions.head()",
            "cell_type": "code",
            "execution_count": 7,
            "outputs": [
                {
                    "output_type": "execute_result",
                    "metadata": {},
                    "data": {
                        "text/plain": "   CustomerID  TimeYears   lasttrans  current Frequency_score  Monetary_score  \\\n0         787          7  117.393407        1               1           55541   \n1         789          7  117.393407        1             six               1   \n2           1          6  137.165304        1               2               2   \n3           2          8   72.997904        1               1               3   \n4           3         13  105.156650        1               2               3   \n\n  Churn  \n0     T  \n1     T  \n2     F  \n3     F  \n4     F  ",
                        "text/html": "<div>\n<style scoped>\n    .dataframe tbody tr th:only-of-type {\n        vertical-align: middle;\n    }\n\n    .dataframe tbody tr th {\n        vertical-align: top;\n    }\n\n    .dataframe thead th {\n        text-align: right;\n    }\n</style>\n<table border=\"1\" class=\"dataframe\">\n  <thead>\n    <tr style=\"text-align: right;\">\n      <th></th>\n      <th>CustomerID</th>\n      <th>TimeYears</th>\n      <th>lasttrans</th>\n      <th>current</th>\n      <th>Frequency_score</th>\n      <th>Monetary_score</th>\n      <th>Churn</th>\n    </tr>\n  </thead>\n  <tbody>\n    <tr>\n      <th>0</th>\n      <td>787</td>\n      <td>7</td>\n      <td>117.393407</td>\n      <td>1</td>\n      <td>1</td>\n      <td>55541</td>\n      <td>T</td>\n    </tr>\n    <tr>\n      <th>1</th>\n      <td>789</td>\n      <td>7</td>\n      <td>117.393407</td>\n      <td>1</td>\n      <td>six</td>\n      <td>1</td>\n      <td>T</td>\n    </tr>\n    <tr>\n      <th>2</th>\n      <td>1</td>\n      <td>6</td>\n      <td>137.165304</td>\n      <td>1</td>\n      <td>2</td>\n      <td>2</td>\n      <td>F</td>\n    </tr>\n    <tr>\n      <th>3</th>\n      <td>2</td>\n      <td>8</td>\n      <td>72.997904</td>\n      <td>1</td>\n      <td>1</td>\n      <td>3</td>\n      <td>F</td>\n    </tr>\n    <tr>\n      <th>4</th>\n      <td>3</td>\n      <td>13</td>\n      <td>105.156650</td>\n      <td>1</td>\n      <td>2</td>\n      <td>3</td>\n      <td>F</td>\n    </tr>\n  </tbody>\n</table>\n</div>"
                    },
                    "execution_count": 7
                }
            ],
            "metadata": {}
        },
        {
            "source": "print('Number of rows in customers = {}'.format(customers.CustomerID.count()))\nprint('Number of rows in trips = {}'.format(transactions.CustomerID.count()))",
            "cell_type": "code",
            "execution_count": 8,
            "outputs": [
                {
                    "output_type": "stream",
                    "name": "stdout",
                    "text": "Number of rows in customers = 788\nNumber of rows in trips = 788\n"
                }
            ],
            "metadata": {}
        },
        {
            "source": "# Join Data",
            "cell_type": "markdown",
            "metadata": {}
        },
        {
            "source": "joined = customers.join(transactions.set_index('CustomerID'), on='CustomerID', how='inner').reset_index(drop=True)",
            "cell_type": "code",
            "execution_count": 9,
            "outputs": [],
            "metadata": {}
        },
        {
            "source": "print('Number of rows in joined = {}'.format(joined.CustomerID.count()))\njoined.head()",
            "cell_type": "code",
            "execution_count": 10,
            "outputs": [
                {
                    "output_type": "stream",
                    "name": "stdout",
                    "text": "Number of rows in joined = 788\n"
                },
                {
                    "output_type": "execute_result",
                    "metadata": {},
                    "data": {
                        "text/plain": "   CustomerID  Retire Invest Educ Mortgage LOC  GENDER    MARITAL CHILDREN  \\\n0         787     0.0     No   No       No  No    Male     Single       No   \n1         789     0.0     No   No       No  No    Male     Single       No   \n2           1     NaN     No   No      Yes  No  Female    Widowed       No   \n3           2     NaN     No  Yes       No  No  Female  Separated       No   \n4           3     1.0     No  Yes      Yes  No    Male     Single       No   \n\n  WORKING HighMonVal  AgeRange  TimeYears   lasttrans  current  \\\n0     Yes         No  17 to 22          7  117.393407        1   \n1     Yes         No  17 to 22          7  117.393407        1   \n2     Yes        Yes  17 to 22          6  137.165304        1   \n3     Yes        Yes  17 to 22          8   72.997904        1   \n4     Yes         No  17 to 22         13  105.156650        1   \n\n  Frequency_score  Monetary_score Churn  \n0               1           55541     T  \n1             six               1     T  \n2               2               2     F  \n3               1               3     F  \n4               2               3     F  ",
                        "text/html": "<div>\n<style scoped>\n    .dataframe tbody tr th:only-of-type {\n        vertical-align: middle;\n    }\n\n    .dataframe tbody tr th {\n        vertical-align: top;\n    }\n\n    .dataframe thead th {\n        text-align: right;\n    }\n</style>\n<table border=\"1\" class=\"dataframe\">\n  <thead>\n    <tr style=\"text-align: right;\">\n      <th></th>\n      <th>CustomerID</th>\n      <th>Retire</th>\n      <th>Invest</th>\n      <th>Educ</th>\n      <th>Mortgage</th>\n      <th>LOC</th>\n      <th>GENDER</th>\n      <th>MARITAL</th>\n      <th>CHILDREN</th>\n      <th>WORKING</th>\n      <th>HighMonVal</th>\n      <th>AgeRange</th>\n      <th>TimeYears</th>\n      <th>lasttrans</th>\n      <th>current</th>\n      <th>Frequency_score</th>\n      <th>Monetary_score</th>\n      <th>Churn</th>\n    </tr>\n  </thead>\n  <tbody>\n    <tr>\n      <th>0</th>\n      <td>787</td>\n      <td>0.0</td>\n      <td>No</td>\n      <td>No</td>\n      <td>No</td>\n      <td>No</td>\n      <td>Male</td>\n      <td>Single</td>\n      <td>No</td>\n      <td>Yes</td>\n      <td>No</td>\n      <td>17 to 22</td>\n      <td>7</td>\n      <td>117.393407</td>\n      <td>1</td>\n      <td>1</td>\n      <td>55541</td>\n      <td>T</td>\n    </tr>\n    <tr>\n      <th>1</th>\n      <td>789</td>\n      <td>0.0</td>\n      <td>No</td>\n      <td>No</td>\n      <td>No</td>\n      <td>No</td>\n      <td>Male</td>\n      <td>Single</td>\n      <td>No</td>\n      <td>Yes</td>\n      <td>No</td>\n      <td>17 to 22</td>\n      <td>7</td>\n      <td>117.393407</td>\n      <td>1</td>\n      <td>six</td>\n      <td>1</td>\n      <td>T</td>\n    </tr>\n    <tr>\n      <th>2</th>\n      <td>1</td>\n      <td>NaN</td>\n      <td>No</td>\n      <td>No</td>\n      <td>Yes</td>\n      <td>No</td>\n      <td>Female</td>\n      <td>Widowed</td>\n      <td>No</td>\n      <td>Yes</td>\n      <td>Yes</td>\n      <td>17 to 22</td>\n      <td>6</td>\n      <td>137.165304</td>\n      <td>1</td>\n      <td>2</td>\n      <td>2</td>\n      <td>F</td>\n    </tr>\n    <tr>\n      <th>3</th>\n      <td>2</td>\n      <td>NaN</td>\n      <td>No</td>\n      <td>Yes</td>\n      <td>No</td>\n      <td>No</td>\n      <td>Female</td>\n      <td>Separated</td>\n      <td>No</td>\n      <td>Yes</td>\n      <td>Yes</td>\n      <td>17 to 22</td>\n      <td>8</td>\n      <td>72.997904</td>\n      <td>1</td>\n      <td>1</td>\n      <td>3</td>\n      <td>F</td>\n    </tr>\n    <tr>\n      <th>4</th>\n      <td>3</td>\n      <td>1.0</td>\n      <td>No</td>\n      <td>Yes</td>\n      <td>Yes</td>\n      <td>No</td>\n      <td>Male</td>\n      <td>Single</td>\n      <td>No</td>\n      <td>Yes</td>\n      <td>No</td>\n      <td>17 to 22</td>\n      <td>13</td>\n      <td>105.156650</td>\n      <td>1</td>\n      <td>2</td>\n      <td>3</td>\n      <td>F</td>\n    </tr>\n  </tbody>\n</table>\n</div>"
                    },
                    "execution_count": 10
                }
            ],
            "metadata": {}
        },
        {
            "source": "# Data Cleansing",
            "cell_type": "markdown",
            "metadata": {}
        },
        {
            "source": "joined[['Frequency_score']] = joined[['Frequency_score']].apply(pd.to_numeric, errors='coerce')",
            "cell_type": "code",
            "execution_count": 11,
            "outputs": [],
            "metadata": {}
        },
        {
            "source": "#joined.drop('Retire', axis=1, inplace=True)\n#joined.drop('Frequency_score', axis=1, inplace=True)\njoined = joined.dropna(axis=0)\nprint('Number of rows in joined = {}'.format(joined.CustomerID.count()))",
            "cell_type": "code",
            "execution_count": 12,
            "outputs": [
                {
                    "output_type": "stream",
                    "name": "stdout",
                    "text": "Number of rows in joined = 761\n"
                }
            ],
            "metadata": {}
        },
        {
            "source": "joined[['Frequency_score']] = joined[['Frequency_score']].astype(int)",
            "cell_type": "code",
            "execution_count": 13,
            "outputs": [],
            "metadata": {}
        },
        {
            "source": "joined[['Monetary_score']] = joined[['Monetary_score']]<= 200",
            "cell_type": "code",
            "execution_count": 14,
            "outputs": [],
            "metadata": {}
        },
        {
            "source": "joined.head()",
            "cell_type": "code",
            "execution_count": 15,
            "outputs": [
                {
                    "output_type": "execute_result",
                    "metadata": {},
                    "data": {
                        "text/plain": "   CustomerID  Retire Invest Educ Mortgage  LOC  GENDER    MARITAL CHILDREN  \\\n0         787     0.0     No   No       No   No    Male     Single       No   \n4           3     1.0     No  Yes      Yes   No    Male     Single       No   \n5           4     1.0     No   No       No   No  Female    Widowed       No   \n6           5     1.0     No   No       No   No  Female  Separated       No   \n7           6     1.0     No   No      Yes  Yes    Male     Single       No   \n\n  WORKING HighMonVal  AgeRange  TimeYears   lasttrans  current  \\\n0     Yes         No  17 to 22          7  117.393407        1   \n4     Yes         No  17 to 22         13  105.156650        1   \n5     Yes        Yes  17 to 22          7   75.530619        1   \n6     Yes         No  17 to 22         13   86.580787        1   \n7      No         No  17 to 22         11  122.074913        1   \n\n   Frequency_score  Monetary_score Churn  \n0                1           False     T  \n4                2            True     F  \n5                2            True     F  \n6                1            True     F  \n7                3            True     F  ",
                        "text/html": "<div>\n<style scoped>\n    .dataframe tbody tr th:only-of-type {\n        vertical-align: middle;\n    }\n\n    .dataframe tbody tr th {\n        vertical-align: top;\n    }\n\n    .dataframe thead th {\n        text-align: right;\n    }\n</style>\n<table border=\"1\" class=\"dataframe\">\n  <thead>\n    <tr style=\"text-align: right;\">\n      <th></th>\n      <th>CustomerID</th>\n      <th>Retire</th>\n      <th>Invest</th>\n      <th>Educ</th>\n      <th>Mortgage</th>\n      <th>LOC</th>\n      <th>GENDER</th>\n      <th>MARITAL</th>\n      <th>CHILDREN</th>\n      <th>WORKING</th>\n      <th>HighMonVal</th>\n      <th>AgeRange</th>\n      <th>TimeYears</th>\n      <th>lasttrans</th>\n      <th>current</th>\n      <th>Frequency_score</th>\n      <th>Monetary_score</th>\n      <th>Churn</th>\n    </tr>\n  </thead>\n  <tbody>\n    <tr>\n      <th>0</th>\n      <td>787</td>\n      <td>0.0</td>\n      <td>No</td>\n      <td>No</td>\n      <td>No</td>\n      <td>No</td>\n      <td>Male</td>\n      <td>Single</td>\n      <td>No</td>\n      <td>Yes</td>\n      <td>No</td>\n      <td>17 to 22</td>\n      <td>7</td>\n      <td>117.393407</td>\n      <td>1</td>\n      <td>1</td>\n      <td>False</td>\n      <td>T</td>\n    </tr>\n    <tr>\n      <th>4</th>\n      <td>3</td>\n      <td>1.0</td>\n      <td>No</td>\n      <td>Yes</td>\n      <td>Yes</td>\n      <td>No</td>\n      <td>Male</td>\n      <td>Single</td>\n      <td>No</td>\n      <td>Yes</td>\n      <td>No</td>\n      <td>17 to 22</td>\n      <td>13</td>\n      <td>105.156650</td>\n      <td>1</td>\n      <td>2</td>\n      <td>True</td>\n      <td>F</td>\n    </tr>\n    <tr>\n      <th>5</th>\n      <td>4</td>\n      <td>1.0</td>\n      <td>No</td>\n      <td>No</td>\n      <td>No</td>\n      <td>No</td>\n      <td>Female</td>\n      <td>Widowed</td>\n      <td>No</td>\n      <td>Yes</td>\n      <td>Yes</td>\n      <td>17 to 22</td>\n      <td>7</td>\n      <td>75.530619</td>\n      <td>1</td>\n      <td>2</td>\n      <td>True</td>\n      <td>F</td>\n    </tr>\n    <tr>\n      <th>6</th>\n      <td>5</td>\n      <td>1.0</td>\n      <td>No</td>\n      <td>No</td>\n      <td>No</td>\n      <td>No</td>\n      <td>Female</td>\n      <td>Separated</td>\n      <td>No</td>\n      <td>Yes</td>\n      <td>No</td>\n      <td>17 to 22</td>\n      <td>13</td>\n      <td>86.580787</td>\n      <td>1</td>\n      <td>1</td>\n      <td>True</td>\n      <td>F</td>\n    </tr>\n    <tr>\n      <th>7</th>\n      <td>6</td>\n      <td>1.0</td>\n      <td>No</td>\n      <td>No</td>\n      <td>Yes</td>\n      <td>Yes</td>\n      <td>Male</td>\n      <td>Single</td>\n      <td>No</td>\n      <td>No</td>\n      <td>No</td>\n      <td>17 to 22</td>\n      <td>11</td>\n      <td>122.074913</td>\n      <td>1</td>\n      <td>3</td>\n      <td>True</td>\n      <td>F</td>\n    </tr>\n  </tbody>\n</table>\n</div>"
                    },
                    "execution_count": 15
                }
            ],
            "metadata": {}
        },
        {
            "source": "joined.dtypes",
            "cell_type": "code",
            "execution_count": 16,
            "outputs": [
                {
                    "output_type": "execute_result",
                    "metadata": {},
                    "data": {
                        "text/plain": "CustomerID           int64\nRetire             float64\nInvest              object\nEduc                object\nMortgage            object\nLOC                 object\nGENDER              object\nMARITAL             object\nCHILDREN            object\nWORKING             object\nHighMonVal          object\nAgeRange            object\nTimeYears            int64\nlasttrans          float64\ncurrent              int64\nFrequency_score      int64\nMonetary_score        bool\nChurn               object\ndtype: object"
                    },
                    "execution_count": 16
                }
            ],
            "metadata": {}
        },
        {
            "source": "# Drop Columns not being used as Features",
            "cell_type": "markdown",
            "metadata": {}
        },
        {
            "source": "dropCols = (['CustomerID', 'Invest', 'Educ', 'MARITAL', 'TimeYears', 'lasttrans', 'current', 'Monetary_score'])\njoined.drop(dropCols, axis=1, inplace=True)",
            "cell_type": "code",
            "execution_count": 17,
            "outputs": [],
            "metadata": {}
        },
        {
            "source": "# Convert numeric data to integer (some numeric columns were inferred as float64)",
            "cell_type": "markdown",
            "metadata": {}
        },
        {
            "source": "joinedColNames = joined.columns.values.tolist()\nintList = []\nnumericCols = []\nfor col in joinedColNames:\n    if joined[col].dtypes == 'float64' or joined[col].dtypes == 'int64':\n        numericCols.append(col)\n        intList.append('int')\n# Create a dictionary that will be used to set the numeric columns to integer type\nintDict = dict(zip(numericCols, intList))\nintDict",
            "cell_type": "code",
            "execution_count": 18,
            "outputs": [
                {
                    "output_type": "execute_result",
                    "metadata": {},
                    "data": {
                        "text/plain": "{'Frequency_score': 'int', 'Retire': 'int'}"
                    },
                    "execution_count": 18
                }
            ],
            "metadata": {}
        },
        {
            "source": "# Conert the numeric columns to integer\njoined = joined.astype(intDict)\n# All numeric data is now int64",
            "cell_type": "code",
            "execution_count": 19,
            "outputs": [],
            "metadata": {}
        },
        {
            "source": "# Encode the string data",
            "cell_type": "markdown",
            "metadata": {}
        },
        {
            "source": "joined.columns.values",
            "cell_type": "code",
            "execution_count": 20,
            "outputs": [
                {
                    "output_type": "execute_result",
                    "metadata": {},
                    "data": {
                        "text/plain": "array(['Retire', 'Mortgage', 'LOC', 'GENDER', 'CHILDREN', 'WORKING',\n       'HighMonVal', 'AgeRange', 'Frequency_score', 'Churn'], dtype=object)"
                    },
                    "execution_count": 20
                }
            ],
            "metadata": {}
        },
        {
            "source": "# Import LabelEncoder and initialize it\nfrom sklearn.preprocessing import LabelEncoder\nlenc=LabelEncoder()\n# Encode the entire DataFrame before splitting the data into training and test sets\njoinedColNames = joined.columns.values.tolist()\nfor col in joinedColNames:\n    # Encode only the categorical columns\n    if joined[col].dtypes == 'object':\n        lenc.fit(joined[col])\n        joined[col+'.t']=lenc.transform(joined[col])\n        joined = joined.drop(col, axis = 1)\njoined.rename(columns=lambda x: x.replace('.t', ''), inplace=True)",
            "cell_type": "code",
            "execution_count": 21,
            "outputs": [],
            "metadata": {}
        },
        {
            "source": "# Prepare the data for machine learning",
            "cell_type": "markdown",
            "metadata": {}
        },
        {
            "source": "# Create features and label dataframes\nX = joined.drop('Churn', axis = 1)\ny = joined.Churn",
            "cell_type": "code",
            "execution_count": 22,
            "outputs": [],
            "metadata": {}
        },
        {
            "source": "# Sample the indexed DataFrame\nX.sample(n=5, random_state=2)",
            "cell_type": "code",
            "execution_count": 23,
            "outputs": [
                {
                    "output_type": "execute_result",
                    "metadata": {},
                    "data": {
                        "text/plain": "     Retire  Frequency_score  Mortgage  LOC  GENDER  CHILDREN  WORKING  \\\n265       0                4         1    1       1         1        0   \n364       1                5         1    1       1         0        1   \n672       0                5         1    0       0         0        1   \n317       1                3         1    1       0         0        1   \n72        1                3         0    0       1         0        1   \n\n     HighMonVal  AgeRange  \n265           0         3  \n364           1         3  \n672           0         1  \n317           1         1  \n72            1         0  ",
                        "text/html": "<div>\n<style scoped>\n    .dataframe tbody tr th:only-of-type {\n        vertical-align: middle;\n    }\n\n    .dataframe tbody tr th {\n        vertical-align: top;\n    }\n\n    .dataframe thead th {\n        text-align: right;\n    }\n</style>\n<table border=\"1\" class=\"dataframe\">\n  <thead>\n    <tr style=\"text-align: right;\">\n      <th></th>\n      <th>Retire</th>\n      <th>Frequency_score</th>\n      <th>Mortgage</th>\n      <th>LOC</th>\n      <th>GENDER</th>\n      <th>CHILDREN</th>\n      <th>WORKING</th>\n      <th>HighMonVal</th>\n      <th>AgeRange</th>\n    </tr>\n  </thead>\n  <tbody>\n    <tr>\n      <th>265</th>\n      <td>0</td>\n      <td>4</td>\n      <td>1</td>\n      <td>1</td>\n      <td>1</td>\n      <td>1</td>\n      <td>0</td>\n      <td>0</td>\n      <td>3</td>\n    </tr>\n    <tr>\n      <th>364</th>\n      <td>1</td>\n      <td>5</td>\n      <td>1</td>\n      <td>1</td>\n      <td>1</td>\n      <td>0</td>\n      <td>1</td>\n      <td>1</td>\n      <td>3</td>\n    </tr>\n    <tr>\n      <th>672</th>\n      <td>0</td>\n      <td>5</td>\n      <td>1</td>\n      <td>0</td>\n      <td>0</td>\n      <td>0</td>\n      <td>1</td>\n      <td>0</td>\n      <td>1</td>\n    </tr>\n    <tr>\n      <th>317</th>\n      <td>1</td>\n      <td>3</td>\n      <td>1</td>\n      <td>1</td>\n      <td>0</td>\n      <td>0</td>\n      <td>1</td>\n      <td>1</td>\n      <td>1</td>\n    </tr>\n    <tr>\n      <th>72</th>\n      <td>1</td>\n      <td>3</td>\n      <td>0</td>\n      <td>0</td>\n      <td>1</td>\n      <td>0</td>\n      <td>1</td>\n      <td>1</td>\n      <td>0</td>\n    </tr>\n  </tbody>\n</table>\n</div>"
                    },
                    "execution_count": 23
                }
            ],
            "metadata": {}
        },
        {
            "source": "# Create training and test datasets\u00b6",
            "cell_type": "markdown",
            "metadata": {}
        },
        {
            "source": "# split X and y into training and testing sets\nfrom sklearn.model_selection import train_test_split\nX_train, X_test, y_train, y_test = train_test_split(X, y, train_size=0.9, random_state=0)",
            "cell_type": "code",
            "execution_count": 24,
            "outputs": [
                {
                    "output_type": "stream",
                    "name": "stderr",
                    "text": "/opt/conda/envs/DSX-Python35/lib/python3.5/site-packages/sklearn/model_selection/_split.py:2026: FutureWarning: From version 0.21, test_size will always complement train_size unless both are specified.\n  FutureWarning)\n"
                }
            ],
            "metadata": {}
        },
        {
            "source": "# Show the number of rows in each data set\nprint('Number of rows in X_train is {}.'.format(X_train.shape[0]))\nprint('Number of rows in X_test is {}.'.format(X_test.shape[0]))\nprint('Number of rows in y_train is {}.'.format(y_train.shape[0]))\nprint('Number of rows in y_test is {}.'.format(y_test.shape[0]))",
            "cell_type": "code",
            "execution_count": 25,
            "outputs": [
                {
                    "output_type": "stream",
                    "name": "stdout",
                    "text": "Number of rows in X_train is 684.\nNumber of rows in X_test is 77.\nNumber of rows in y_train is 684.\nNumber of rows in y_test is 77.\n"
                }
            ],
            "metadata": {}
        },
        {
            "source": "# Train the model",
            "cell_type": "markdown",
            "metadata": {}
        },
        {
            "source": "#import required modules from the scikit-learn metrics package\nfrom sklearn.metrics import accuracy_score, confusion_matrix, roc_curve, roc_auc_score",
            "cell_type": "code",
            "execution_count": 26,
            "outputs": [],
            "metadata": {}
        },
        {
            "source": "#Import XGBoost\nfrom xgboost import XGBClassifier\n# fit model no training data\nmodel = XGBClassifier()\n#model.fit(X_train, y_train)",
            "cell_type": "code",
            "execution_count": 66,
            "outputs": [
                {
                    "output_type": "execute_result",
                    "metadata": {},
                    "data": {
                        "text/plain": "XGBClassifier(base_score=0.5, colsample_bylevel=1, colsample_bytree=1,\n       gamma=0, learning_rate=0.1, max_delta_step=0, max_depth=3,\n       min_child_weight=1, missing=None, n_estimators=100, nthread=-1,\n       objective='binary:logistic', reg_alpha=0, reg_lambda=1,\n       scale_pos_weight=1, seed=0, silent=True, subsample=1)"
                    },
                    "execution_count": 66
                }
            ],
            "metadata": {}
        },
        {
            "source": "# List the default parameters.\n#print(model.get_xgb_params())",
            "cell_type": "code",
            "execution_count": 59,
            "outputs": [
                {
                    "output_type": "stream",
                    "name": "stdout",
                    "text": "{'colsample_bytree': 1, 'scale_pos_weight': 1, 'reg_lambda': 1, 'learning_rate': 0.1, 'max_delta_step': 0, 'reg_alpha': 0, 'colsample_bylevel': 1, 'silent': 1, 'n_estimators': 100, 'min_child_weight': 1, 'seed': 0, 'gamma': 0, 'missing': None, 'subsample': 1, 'base_score': 0.5, 'objective': 'binary:logistic', 'max_depth': 3}\n"
                }
            ],
            "metadata": {}
        },
        {
            "source": "model.fit(X_train, y_train, eval_metric=['error'], eval_set=[((X_train, y_train)),(X_test, y_test)])",
            "cell_type": "code",
            "execution_count": 67,
            "outputs": [
                {
                    "output_type": "stream",
                    "name": "stdout",
                    "text": "[0]\tvalidation_0-error:0.219298\tvalidation_1-error:0.194805\n[1]\tvalidation_0-error:0.211988\tvalidation_1-error:0.181818\n[2]\tvalidation_0-error:0.216374\tvalidation_1-error:0.181818\n[3]\tvalidation_0-error:0.216374\tvalidation_1-error:0.181818\n[4]\tvalidation_0-error:0.187135\tvalidation_1-error:0.155844\n[5]\tvalidation_0-error:0.184211\tvalidation_1-error:0.155844\n[6]\tvalidation_0-error:0.162281\tvalidation_1-error:0.12987\n[7]\tvalidation_0-error:0.163743\tvalidation_1-error:0.12987\n[8]\tvalidation_0-error:0.159357\tvalidation_1-error:0.155844\n[9]\tvalidation_0-error:0.162281\tvalidation_1-error:0.116883\n[10]\tvalidation_0-error:0.165205\tvalidation_1-error:0.116883\n[11]\tvalidation_0-error:0.162281\tvalidation_1-error:0.116883\n[12]\tvalidation_0-error:0.162281\tvalidation_1-error:0.12987\n[13]\tvalidation_0-error:0.162281\tvalidation_1-error:0.12987\n[14]\tvalidation_0-error:0.156433\tvalidation_1-error:0.142857\n[15]\tvalidation_0-error:0.152047\tvalidation_1-error:0.155844\n[16]\tvalidation_0-error:0.154971\tvalidation_1-error:0.155844\n[17]\tvalidation_0-error:0.154971\tvalidation_1-error:0.155844\n[18]\tvalidation_0-error:0.143275\tvalidation_1-error:0.155844\n[19]\tvalidation_0-error:0.143275\tvalidation_1-error:0.155844\n[20]\tvalidation_0-error:0.143275\tvalidation_1-error:0.155844\n[21]\tvalidation_0-error:0.143275\tvalidation_1-error:0.155844\n[22]\tvalidation_0-error:0.140351\tvalidation_1-error:0.142857\n[23]\tvalidation_0-error:0.140351\tvalidation_1-error:0.142857\n[24]\tvalidation_0-error:0.140351\tvalidation_1-error:0.142857\n[25]\tvalidation_0-error:0.141813\tvalidation_1-error:0.142857\n[26]\tvalidation_0-error:0.134503\tvalidation_1-error:0.155844\n[27]\tvalidation_0-error:0.133041\tvalidation_1-error:0.155844\n[28]\tvalidation_0-error:0.134503\tvalidation_1-error:0.155844\n[29]\tvalidation_0-error:0.131579\tvalidation_1-error:0.155844\n[30]\tvalidation_0-error:0.133041\tvalidation_1-error:0.155844\n[31]\tvalidation_0-error:0.133041\tvalidation_1-error:0.155844\n[32]\tvalidation_0-error:0.133041\tvalidation_1-error:0.155844\n[33]\tvalidation_0-error:0.131579\tvalidation_1-error:0.168831\n[34]\tvalidation_0-error:0.127193\tvalidation_1-error:0.155844\n[35]\tvalidation_0-error:0.131579\tvalidation_1-error:0.155844\n[36]\tvalidation_0-error:0.128655\tvalidation_1-error:0.155844\n[37]\tvalidation_0-error:0.127193\tvalidation_1-error:0.155844\n[38]\tvalidation_0-error:0.127193\tvalidation_1-error:0.155844\n[39]\tvalidation_0-error:0.127193\tvalidation_1-error:0.155844\n[40]\tvalidation_0-error:0.125731\tvalidation_1-error:0.168831\n[41]\tvalidation_0-error:0.127193\tvalidation_1-error:0.155844\n[42]\tvalidation_0-error:0.124269\tvalidation_1-error:0.168831\n[43]\tvalidation_0-error:0.128655\tvalidation_1-error:0.155844\n[44]\tvalidation_0-error:0.125731\tvalidation_1-error:0.168831\n[45]\tvalidation_0-error:0.127193\tvalidation_1-error:0.155844\n[46]\tvalidation_0-error:0.128655\tvalidation_1-error:0.142857\n[47]\tvalidation_0-error:0.127193\tvalidation_1-error:0.155844\n[48]\tvalidation_0-error:0.125731\tvalidation_1-error:0.142857\n[49]\tvalidation_0-error:0.124269\tvalidation_1-error:0.142857\n[50]\tvalidation_0-error:0.122807\tvalidation_1-error:0.142857\n[51]\tvalidation_0-error:0.122807\tvalidation_1-error:0.142857\n[52]\tvalidation_0-error:0.119883\tvalidation_1-error:0.155844\n[53]\tvalidation_0-error:0.122807\tvalidation_1-error:0.142857\n[54]\tvalidation_0-error:0.122807\tvalidation_1-error:0.142857\n[55]\tvalidation_0-error:0.119883\tvalidation_1-error:0.142857\n[56]\tvalidation_0-error:0.118421\tvalidation_1-error:0.155844\n[57]\tvalidation_0-error:0.116959\tvalidation_1-error:0.155844\n[58]\tvalidation_0-error:0.116959\tvalidation_1-error:0.142857\n[59]\tvalidation_0-error:0.114035\tvalidation_1-error:0.155844\n[60]\tvalidation_0-error:0.114035\tvalidation_1-error:0.142857\n[61]\tvalidation_0-error:0.115497\tvalidation_1-error:0.12987\n[62]\tvalidation_0-error:0.115497\tvalidation_1-error:0.12987\n[63]\tvalidation_0-error:0.116959\tvalidation_1-error:0.12987\n[64]\tvalidation_0-error:0.114035\tvalidation_1-error:0.142857\n[65]\tvalidation_0-error:0.112573\tvalidation_1-error:0.142857\n[66]\tvalidation_0-error:0.112573\tvalidation_1-error:0.142857\n[67]\tvalidation_0-error:0.112573\tvalidation_1-error:0.142857\n[68]\tvalidation_0-error:0.112573\tvalidation_1-error:0.142857\n[69]\tvalidation_0-error:0.114035\tvalidation_1-error:0.142857\n[70]\tvalidation_0-error:0.112573\tvalidation_1-error:0.142857\n[71]\tvalidation_0-error:0.112573\tvalidation_1-error:0.142857\n[72]\tvalidation_0-error:0.109649\tvalidation_1-error:0.142857\n[73]\tvalidation_0-error:0.111111\tvalidation_1-error:0.142857\n[74]\tvalidation_0-error:0.111111\tvalidation_1-error:0.142857\n[75]\tvalidation_0-error:0.112573\tvalidation_1-error:0.142857\n[76]\tvalidation_0-error:0.111111\tvalidation_1-error:0.142857\n[77]\tvalidation_0-error:0.111111\tvalidation_1-error:0.142857\n[78]\tvalidation_0-error:0.111111\tvalidation_1-error:0.142857\n[79]\tvalidation_0-error:0.111111\tvalidation_1-error:0.142857\n[80]\tvalidation_0-error:0.111111\tvalidation_1-error:0.142857\n[81]\tvalidation_0-error:0.106725\tvalidation_1-error:0.142857\n[82]\tvalidation_0-error:0.108187\tvalidation_1-error:0.142857\n[83]\tvalidation_0-error:0.109649\tvalidation_1-error:0.12987\n[84]\tvalidation_0-error:0.111111\tvalidation_1-error:0.142857\n[85]\tvalidation_0-error:0.109649\tvalidation_1-error:0.142857\n[86]\tvalidation_0-error:0.108187\tvalidation_1-error:0.12987\n[87]\tvalidation_0-error:0.108187\tvalidation_1-error:0.12987\n[88]\tvalidation_0-error:0.106725\tvalidation_1-error:0.12987\n[89]\tvalidation_0-error:0.106725\tvalidation_1-error:0.12987\n[90]\tvalidation_0-error:0.106725\tvalidation_1-error:0.12987\n[91]\tvalidation_0-error:0.106725\tvalidation_1-error:0.12987\n[92]\tvalidation_0-error:0.106725\tvalidation_1-error:0.12987\n[93]\tvalidation_0-error:0.105263\tvalidation_1-error:0.12987\n[94]\tvalidation_0-error:0.106725\tvalidation_1-error:0.12987\n[95]\tvalidation_0-error:0.106725\tvalidation_1-error:0.12987\n[96]\tvalidation_0-error:0.106725\tvalidation_1-error:0.12987\n[97]\tvalidation_0-error:0.106725\tvalidation_1-error:0.12987\n[98]\tvalidation_0-error:0.106725\tvalidation_1-error:0.12987\n[99]\tvalidation_0-error:0.106725\tvalidation_1-error:0.12987\n"
                },
                {
                    "output_type": "execute_result",
                    "metadata": {},
                    "data": {
                        "text/plain": "XGBClassifier(base_score=0.5, colsample_bylevel=1, colsample_bytree=1,\n       gamma=0, learning_rate=0.1, max_delta_step=0, max_depth=3,\n       min_child_weight=1, missing=None, n_estimators=100, nthread=-1,\n       objective='binary:logistic', reg_alpha=0, reg_lambda=1,\n       scale_pos_weight=1, seed=0, silent=True, subsample=1)"
                    },
                    "execution_count": 67
                }
            ],
            "metadata": {}
        },
        {
            "source": "print(model)",
            "cell_type": "code",
            "execution_count": 68,
            "outputs": [
                {
                    "output_type": "stream",
                    "name": "stdout",
                    "text": "XGBClassifier(base_score=0.5, colsample_bylevel=1, colsample_bytree=1,\n       gamma=0, learning_rate=0.1, max_delta_step=0, max_depth=3,\n       min_child_weight=1, missing=None, n_estimators=100, nthread=-1,\n       objective='binary:logistic', reg_alpha=0, reg_lambda=1,\n       scale_pos_weight=1, seed=0, silent=True, subsample=1)\n"
                }
            ],
            "metadata": {}
        },
        {
            "source": "# setup for plotting\nimport matplotlib.pyplot as plt\n%matplotlib inline",
            "cell_type": "code",
            "execution_count": 69,
            "outputs": [],
            "metadata": {}
        },
        {
            "source": "eval = model.evals_result()\neval_steps = range(len(eval['validation_0']['error']))",
            "cell_type": "code",
            "execution_count": 71,
            "outputs": [],
            "metadata": {}
        },
        {
            "source": "# Plot and display the performance evaluation\neval = model.evals_result()\neval_steps = range(len(eval['validation_0']['error']))\n\nfig, ax = plt.subplots(1, 1, sharex=True, figsize=(8, 6))\n\nax.plot(eval_steps, [1-x for x in eval['validation_0']['error']], label='Train')\nax.plot(eval_steps, [1-x for x in eval['validation_1']['error']], label='Test')\nax.legend()\nax.set_title('Accuracy')\nax.set_xlabel('Number of iterations')",
            "cell_type": "code",
            "execution_count": 72,
            "outputs": [
                {
                    "output_type": "execute_result",
                    "metadata": {},
                    "data": {
                        "text/plain": "Text(0.5,0,'Number of iterations')"
                    },
                    "execution_count": 72
                },
                {
                    "output_type": "display_data",
                    "data": {
                        "image/png": "[encoded data removed]",
                        "text/plain": "<matplotlib.figure.Figure at 0x7f0ce96b0ac8>"
                    },
                    "metadata": {}
                }
            ],
            "metadata": {}
        },
        {
            "source": "# Select trained model.\nn_trees = 10\ny_pred = model.predict(X_test, ntree_limit= n_trees)",
            "cell_type": "code",
            "execution_count": 73,
            "outputs": [],
            "metadata": {}
        },
        {
            "source": "# Check the accuracy of the trained model.\naccuracy = accuracy_score(y_test, y_pred)\n\nprint(\"Accuracy: %.1f%%\" % (accuracy * 100.0))",
            "cell_type": "code",
            "execution_count": 74,
            "outputs": [
                {
                    "output_type": "stream",
                    "name": "stdout",
                    "text": "Accuracy: 88.3%\n"
                }
            ],
            "metadata": {}
        },
        {
            "source": "",
            "cell_type": "code",
            "execution_count": null,
            "outputs": [],
            "metadata": {}
        },
        {
            "source": "",
            "cell_type": "code",
            "execution_count": null,
            "outputs": [],
            "metadata": {}
        },
        {
            "source": "# Make predicitons",
            "cell_type": "markdown",
            "metadata": {}
        },
        {
            "source": "# make predictions for test data\ny_pred = model.predict(X_test)\npredictions = [round(value) for value in y_pred]",
            "cell_type": "code",
            "execution_count": 75,
            "outputs": [],
            "metadata": {}
        },
        {
            "source": "# Check model accuracy",
            "cell_type": "markdown",
            "metadata": {}
        },
        {
            "source": "# evaluate predictions\naccuracy = accuracy_score(y_test, predictions)\nprint(\"Accuracy: %.2f%%\" % (accuracy * 100.0))",
            "cell_type": "code",
            "execution_count": 76,
            "outputs": [
                {
                    "output_type": "stream",
                    "name": "stdout",
                    "text": "Accuracy: 87.01%\n"
                }
            ],
            "metadata": {}
        },
        {
            "source": "",
            "cell_type": "code",
            "execution_count": null,
            "outputs": [],
            "metadata": {}
        },
        {
            "source": "# Save and Deploy Model",
            "cell_type": "markdown",
            "metadata": {}
        },
        {
            "source": "from watson_machine_learning_client import WatsonMachineLearningAPIClient",
            "cell_type": "code",
            "execution_count": 87,
            "outputs": [],
            "metadata": {}
        },
        {
            "source": "wml_credentials = {\n    \"url\": \"https://ibm-watson-ml.mybluemix.net\",\n    #\"access_key\": \"\",\n    \"username\": \"4be82790-d71b-4c9f-ac4e-5af3c4b9c9b1\",\n    \"password\": \"47571902-8632-47e8-9590-323f49975136\",\n    \"instance_id\": \"d360e86c-6ddd-45f7-a908-d1ebf83a211d\"\n}",
            "cell_type": "code",
            "execution_count": 88,
            "outputs": [],
            "metadata": {}
        },
        {
            "source": "client = WatsonMachineLearningAPIClient(wml_credentials)",
            "cell_type": "code",
            "execution_count": 89,
            "outputs": [],
            "metadata": {}
        },
        {
            "source": "model_props = {client.repository.ModelMetaNames.NAME: \"XGBoost model for Retail Churn\"}\n#model_details = client.repository.store_model(pipeline, model_props)\nmodel_details = client.repository.store_model(model, model_props)",
            "cell_type": "code",
            "execution_count": 97,
            "outputs": [],
            "metadata": {}
        },
        {
            "source": "# Display a list of all the models.\nclient.repository.list_models()",
            "cell_type": "code",
            "execution_count": 98,
            "outputs": [
                {
                    "output_type": "stream",
                    "name": "stdout",
                    "text": "------------------------------------  ------------------------------  ------------------------  -----------------\nGUID                                  NAME                            CREATED                   FRAMEWORK\n371d41a1-cf31-41a5-8d30-b5a32a4f12ee  RetailChurn                     2018-06-26T21:43:38.280Z  spss-modeler-18.1\n5d773b87-8401-4f7a-a634-a1b3ef7aa7e9  Telco_Churn_SKL_model           2018-07-24T00:26:42.074Z  scikit-learn-0.19\n1960df30-95cc-4f97-9e31-681c738ae640  Telco_Churn_SKL_model           2018-07-24T00:49:41.877Z  scikit-learn-0.19\n1675d3bc-beed-4c6a-819a-e35d4b591c5d  XGBoost model for Retail Churn  2018-07-24T16:05:10.478Z  scikit-learn-0.19\n------------------------------------  ------------------------------  ------------------------  -----------------\n"
                }
            ],
            "metadata": {}
        },
        {
            "source": "# Extract the uid.\nmodel_uid = client.repository.get_model_uid(model_details)\nprint(model_uid)",
            "cell_type": "code",
            "execution_count": 99,
            "outputs": [
                {
                    "output_type": "stream",
                    "name": "stdout",
                    "text": "1675d3bc-beed-4c6a-819a-e35d4b591c5d\n"
                }
            ],
            "metadata": {}
        },
        {
            "source": "# Create the deployment.\ndeployment_details = client.deployments.create(model_uid, 'Predict Churn with XGBoost')",
            "cell_type": "code",
            "execution_count": 100,
            "outputs": [
                {
                    "output_type": "stream",
                    "name": "stdout",
                    "text": "\n\n#######################################################################################\n\nSynchronous deployment creation for uid: '1675d3bc-beed-4c6a-819a-e35d4b591c5d' started\n\n#######################################################################################\n\n\nINITIALIZING\nDEPLOY_SUCCESS\n\n\n------------------------------------------------------------------------------------------------\nSuccessfully finished deployment creation, deployment_uid='f43c176a-a88e-465e-ae03-2f5196641453'\n------------------------------------------------------------------------------------------------\n\n\n"
                }
            ],
            "metadata": {}
        },
        {
            "source": "# List the deployments.\nclient.deployments.list()",
            "cell_type": "code",
            "execution_count": 101,
            "outputs": [
                {
                    "output_type": "stream",
                    "name": "stdout",
                    "text": "------------------------------------  --------------------------  ------  --------------  ------------------------  -----------------\nGUID                                  NAME                        TYPE    STATE           CREATED                   FRAMEWORK\n3f50d932-b001-4e7d-b351-086249f2880a  Predict_Telco_Churn         online  DEPLOY_SUCCESS  2018-07-24T00:27:56.830Z  scikit-learn-0.19\n86a0da67-b85b-4b3f-b035-2f7bdae2d5c2  RetailChurn                 online  DEPLOY_SUCCESS  2018-07-12T17:44:13.055Z  spss-modeler-18.1\nd8032722-dbb1-478f-8d2b-33a81d6f088d  Predict_Telco_Churn         online  DEPLOY_SUCCESS  2018-07-24T00:49:58.321Z  scikit-learn-0.19\nf43c176a-a88e-465e-ae03-2f5196641453  Predict Churn with XGBoost  online  DEPLOY_SUCCESS  2018-07-24T16:05:26.221Z  scikit-learn-0.19\n------------------------------------  --------------------------  ------  --------------  ------------------------  -----------------\n"
                }
            ],
            "metadata": {}
        },
        {
            "source": "deployment_details",
            "cell_type": "code",
            "execution_count": 106,
            "outputs": [
                {
                    "output_type": "execute_result",
                    "metadata": {},
                    "data": {
                        "text/plain": "{'entity': {'deployable_asset': {'created_at': '2018-07-24T16:05:26.202Z',\n   'guid': '1675d3bc-beed-4c6a-819a-e35d4b591c5d',\n   'name': 'XGBoost model for Retail Churn',\n   'type': 'model',\n   'url': 'https://ibm-watson-ml.mybluemix.net/v3/wml_instances/d360e86c-6ddd-45f7-a908-d1ebf83a211d/published_models/1675d3bc-beed-4c6a-819a-e35d4b591c5d'},\n  'deployed_version': {'guid': '4da236b0-c049-4eef-a6c5-80fef9294c95',\n   'url': 'https://ibm-watson-ml.mybluemix.net/v3/ml_assets/models/1675d3bc-beed-4c6a-819a-e35d4b591c5d/versions/4da236b0-c049-4eef-a6c5-80fef9294c95'},\n  'description': 'Description of deployment',\n  'model_type': 'scikit-learn-0.19',\n  'name': 'Predict Churn with XGBoost',\n  'runtime_environment': 'python-3.5',\n  'scoring_url': 'https://ibm-watson-ml.mybluemix.net/v3/wml_instances/d360e86c-6ddd-45f7-a908-d1ebf83a211d/deployments/f43c176a-a88e-465e-ae03-2f5196641453/online',\n  'status': 'DEPLOY_SUCCESS',\n  'status_details': {'status': 'DEPLOY_SUCCESS'},\n  'type': 'online'},\n 'metadata': {'created_at': '2018-07-24T16:05:26.221Z',\n  'guid': 'f43c176a-a88e-465e-ae03-2f5196641453',\n  'modified_at': '2018-07-24T16:05:26.494Z',\n  'url': 'https://ibm-watson-ml.mybluemix.net/v3/wml_instances/d360e86c-6ddd-45f7-a908-d1ebf83a211d/deployments/f43c176a-a88e-465e-ae03-2f5196641453'}}"
                    },
                    "execution_count": 106
                }
            ],
            "metadata": {}
        },
        {
            "source": "# Extract endpoint url and display it.\nscoring_url = client.deployments.get_scoring_url(deployment_details)\nprint(scoring_url)",
            "cell_type": "code",
            "execution_count": 105,
            "outputs": [
                {
                    "output_type": "error",
                    "evalue": "Unexpected type of 'details', expected: 'deployment_details_type', actual: 'unknown_type'.",
                    "traceback": [
                        "\u001b[0;31m---------------------------------------------------------------------------\u001b[0m",
                        "\u001b[0;31mUnexpectedType\u001b[0m                            Traceback (most recent call last)",
                        "\u001b[0;32m<ipython-input-105-44d26ce86d31>\u001b[0m in \u001b[0;36m<module>\u001b[0;34m()\u001b[0m\n\u001b[1;32m      1\u001b[0m \u001b[0;31m# Extract endpoint url and display it.\u001b[0m\u001b[0;34m\u001b[0m\u001b[0;34m\u001b[0m\u001b[0m\n\u001b[0;32m----> 2\u001b[0;31m \u001b[0mscoring_url\u001b[0m \u001b[0;34m=\u001b[0m \u001b[0mclient\u001b[0m\u001b[0;34m.\u001b[0m\u001b[0mdeployments\u001b[0m\u001b[0;34m.\u001b[0m\u001b[0mget_scoring_url\u001b[0m\u001b[0;34m(\u001b[0m\u001b[0mdeployment_details\u001b[0m\u001b[0;34m)\u001b[0m\u001b[0;34m\u001b[0m\u001b[0m\n\u001b[0m\u001b[1;32m      3\u001b[0m \u001b[0mprint\u001b[0m\u001b[0;34m(\u001b[0m\u001b[0mscoring_url\u001b[0m\u001b[0;34m)\u001b[0m\u001b[0;34m\u001b[0m\u001b[0m\n",
                        "\u001b[0;32m/opt/conda/envs/DSX-Python35/lib/python3.5/site-packages/watson_machine_learning_client/deployments.py\u001b[0m in \u001b[0;36mget_scoring_url\u001b[0;34m(deployment)\u001b[0m\n\u001b[1;32m    400\u001b[0m         \"\"\"\n\u001b[1;32m    401\u001b[0m         \u001b[0mDeployments\u001b[0m\u001b[0;34m.\u001b[0m\u001b[0m_validate_type\u001b[0m\u001b[0;34m(\u001b[0m\u001b[0mdeployment\u001b[0m\u001b[0;34m,\u001b[0m \u001b[0;34mu'deployment'\u001b[0m\u001b[0;34m,\u001b[0m \u001b[0mdict\u001b[0m\u001b[0;34m,\u001b[0m \u001b[0;32mTrue\u001b[0m\u001b[0;34m)\u001b[0m\u001b[0;34m\u001b[0m\u001b[0m\n\u001b[0;32m--> 402\u001b[0;31m         \u001b[0mDeployments\u001b[0m\u001b[0;34m.\u001b[0m\u001b[0m_validate_type_of_details\u001b[0m\u001b[0;34m(\u001b[0m\u001b[0mdeployment\u001b[0m\u001b[0;34m,\u001b[0m \u001b[0mDEPLOYMENT_DETAILS_TYPE\u001b[0m\u001b[0;34m)\u001b[0m\u001b[0;34m\u001b[0m\u001b[0m\n\u001b[0m\u001b[1;32m    403\u001b[0m \u001b[0;34m\u001b[0m\u001b[0m\n\u001b[1;32m    404\u001b[0m         \u001b[0;32mtry\u001b[0m\u001b[0;34m:\u001b[0m\u001b[0;34m\u001b[0m\u001b[0m\n",
                        "\u001b[0;32m/opt/conda/envs/DSX-Python35/lib/python3.5/site-packages/watson_machine_learning_client/wml_resource.py\u001b[0m in \u001b[0;36m_validate_type_of_details\u001b[0;34m(details, expected_type)\u001b[0m\n\u001b[1;32m    113\u001b[0m             \u001b[0mlogger\u001b[0m \u001b[0;34m=\u001b[0m \u001b[0mget_logger\u001b[0m\u001b[0;34m(\u001b[0m\u001b[0;34mu'_validate_type_of_details'\u001b[0m\u001b[0;34m)\u001b[0m\u001b[0;34m\u001b[0m\u001b[0m\n\u001b[1;32m    114\u001b[0m             \u001b[0mlogger\u001b[0m\u001b[0;34m.\u001b[0m\u001b[0mdebug\u001b[0m\u001b[0;34m(\u001b[0m\u001b[0;34mu'Unexpected type of \\'{}\\', expected: \\'{}\\', actual: \\'{}\\', occured for details: {}'\u001b[0m\u001b[0;34m.\u001b[0m\u001b[0mformat\u001b[0m\u001b[0;34m(\u001b[0m\u001b[0;34mu'details'\u001b[0m\u001b[0;34m,\u001b[0m \u001b[0mexpected_type\u001b[0m\u001b[0;34m,\u001b[0m \u001b[0mactual_type\u001b[0m\u001b[0;34m,\u001b[0m \u001b[0mdetails\u001b[0m\u001b[0;34m)\u001b[0m\u001b[0;34m)\u001b[0m\u001b[0;34m\u001b[0m\u001b[0m\n\u001b[0;32m--> 115\u001b[0;31m             \u001b[0;32mraise\u001b[0m \u001b[0mUnexpectedType\u001b[0m\u001b[0;34m(\u001b[0m\u001b[0;34mu'details'\u001b[0m\u001b[0;34m,\u001b[0m \u001b[0mexpected_type\u001b[0m\u001b[0;34m,\u001b[0m \u001b[0mactual_type\u001b[0m\u001b[0;34m)\u001b[0m\u001b[0;34m\u001b[0m\u001b[0m\n\u001b[0m\u001b[1;32m    116\u001b[0m \u001b[0;34m\u001b[0m\u001b[0m\n\u001b[1;32m    117\u001b[0m     \u001b[0;32mdef\u001b[0m \u001b[0m_update\u001b[0m\u001b[0;34m(\u001b[0m\u001b[0mself\u001b[0m\u001b[0;34m,\u001b[0m \u001b[0mresource_url\u001b[0m\u001b[0;34m,\u001b[0m \u001b[0mcurrent_details\u001b[0m\u001b[0;34m,\u001b[0m \u001b[0mchanges\u001b[0m\u001b[0;34m,\u001b[0m \u001b[0mmeta_props_data\u001b[0m\u001b[0;34m)\u001b[0m\u001b[0;34m:\u001b[0m\u001b[0;34m\u001b[0m\u001b[0m\n",
                        "\u001b[0;31mUnexpectedType\u001b[0m: Unexpected type of 'details', expected: 'deployment_details_type', actual: 'unknown_type'."
                    ],
                    "ename": "UnexpectedType"
                }
            ],
            "metadata": {}
        },
        {
            "source": "scoring_url = 'https://ibm-watson-ml.mybluemix.net/v3/wml_instances/d360e86c-6ddd-45f7-a908-d1ebf83a211d/deployments/f43c176a-a88e-465e-ae03-2f5196641453/online'",
            "cell_type": "code",
            "execution_count": 110,
            "outputs": [],
            "metadata": {}
        },
        {
            "source": "# Prepare scoring payload.\npayload_scoring = {\"values\": [X_test.iloc[0].tolist()]}\nprint(payload_scoring)",
            "cell_type": "code",
            "execution_count": 111,
            "outputs": [
                {
                    "output_type": "stream",
                    "name": "stdout",
                    "text": "{'values': [[0, 4, 0, 0, 0, 0, 1, 1, 1]]}\n"
                }
            ],
            "metadata": {}
        },
        {
            "source": "# Perform prediction and display the result.\nresponse_scoring = client.deployments.score(scoring_url, payload_scoring)\nprint(response_scoring)",
            "cell_type": "code",
            "execution_count": 112,
            "outputs": [
                {
                    "output_type": "stream",
                    "name": "stdout",
                    "text": "{'values': [[0, [0.8119363784790039, 0.18806365132331848]]], 'fields': ['prediction', 'probability']}\n"
                }
            ],
            "metadata": {}
        },
        {
            "source": "",
            "cell_type": "code",
            "execution_count": null,
            "outputs": [],
            "metadata": {}
        },
        {
            "source": "",
            "cell_type": "code",
            "execution_count": null,
            "outputs": [],
            "metadata": {}
        },
        {
            "source": "",
            "cell_type": "code",
            "execution_count": null,
            "outputs": [],
            "metadata": {}
        },
        {
            "source": "# Print the confusion matrix for Logistic Regression analysis\ncm = confusion_matrix(y_test, y_pred)\nprint(cm)",
            "cell_type": "code",
            "execution_count": 123,
            "outputs": [
                {
                    "output_type": "stream",
                    "name": "stdout",
                    "text": "[[22  7]\n [ 3 45]]\n"
                }
            ],
            "metadata": {}
        },
        {
            "source": "# Plot the confusion matrix\nplt.matshow(cm)\nplt.title('Confusion matrix')\nplt.colorbar()\nplt.ylabel('True label')\nplt.xlabel('Predicted label')\nplt.show()",
            "cell_type": "code",
            "execution_count": 124,
            "outputs": [
                {
                    "output_type": "display_data",
                    "data": {
                        "image/png": "[encoded data removed]",
                        "text/plain": "<matplotlib.figure.Figure at 0x7fea76119e48>"
                    },
                    "metadata": {}
                }
            ],
            "metadata": {}
        },
        {
            "source": "# Plot the ROC curve\nfpr, tpr, thresholds = roc_curve(y_test, y_pred)\nplt.plot(fpr, tpr)\nplt.xlim([0.0, 1.0])\nplt.ylim([0.0, 1.0])\nplt.title('ROC curve (Logistic Regression)')\nplt.xlabel('False Positive Rate')\nplt.ylabel('True Positive Rate')\nplt.grid(True)",
            "cell_type": "code",
            "execution_count": 125,
            "outputs": [
                {
                    "output_type": "display_data",
                    "data": {
                        "image/png": "[encoded data removed]",
                        "text/plain": "<matplotlib.figure.Figure at 0x7fea750d1e80>"
                    },
                    "metadata": {}
                }
            ],
            "metadata": {}
        },
        {
            "source": "# Print out AUC, the percentage of the ROC plot that is underneath the curve\nprint('AUC using XGBoost = {:.2f}'.format(roc_auc_score(y_test, y_pred)))",
            "cell_type": "code",
            "execution_count": 62,
            "outputs": [
                {
                    "output_type": "stream",
                    "name": "stdout",
                    "text": "AUC using XGBoost = 0.85\n"
                }
            ],
            "metadata": {}
        },
        {
            "source": "",
            "cell_type": "code",
            "execution_count": null,
            "outputs": [],
            "metadata": {}
        },
        {
            "source": "",
            "cell_type": "code",
            "execution_count": null,
            "outputs": [],
            "metadata": {}
        },
        {
            "source": "",
            "cell_type": "code",
            "execution_count": null,
            "outputs": [],
            "metadata": {}
        },
        {
            "source": "",
            "cell_type": "code",
            "execution_count": null,
            "outputs": [],
            "metadata": {}
        },
        {
            "source": "",
            "cell_type": "code",
            "execution_count": null,
            "outputs": [],
            "metadata": {}
        },
        {
            "source": "",
            "cell_type": "code",
            "execution_count": null,
            "outputs": [],
            "metadata": {}
        },
        {
            "source": "# calculate cross-validated AUC\nfrom sklearn.model_selection import cross_val_score\n# 10-fold cross-validation for Logistic Regression\nlreg_avg_cross_val_score = cross_val_score(lreg, X, y, cv=10, scoring='roc_auc').mean()\nprint('Cross-validated AUC for Logistic Regression = {:.2f}'.format(lreg_avg_cross_val_score))",
            "cell_type": "code",
            "execution_count": 37,
            "outputs": [
                {
                    "output_type": "stream",
                    "name": "stdout",
                    "text": "Cross-validated AUC for Logistic Regression = 0.81\n"
                }
            ],
            "metadata": {}
        },
        {
            "source": "# Hyperparamater Tuning\u00b6",
            "cell_type": "markdown",
            "metadata": {}
        },
        {
            "source": "from sklearn.model_selection import GridSearchCV",
            "cell_type": "code",
            "execution_count": 38,
            "outputs": [],
            "metadata": {
                "collapsed": true
            }
        },
        {
            "source": "# create lists of the parameter values that should be searched\n# The penalty parameter is used to specify the norm used in the penalization\npenaltyList = ['l1', 'l2']\n#The C parameter is the inverse of regularization strength, must be a positive float, smaller values specify stronger regularization\nCrange = [float(i)/10 for i in (list(range(1,10,1)))]\n#Created a range of positive, float C values to search",
            "cell_type": "code",
            "execution_count": 39,
            "outputs": [],
            "metadata": {
                "collapsed": true
            }
        },
        {
            "source": "# create a parameter grid by mapping the parameter names to the values/list that should be searched\nparam_grid = dict(penalty = penaltyList, C = Crange)\nprint(param_grid)",
            "cell_type": "code",
            "execution_count": 40,
            "outputs": [
                {
                    "output_type": "stream",
                    "name": "stdout",
                    "text": "{'C': [0.1, 0.2, 0.3, 0.4, 0.5, 0.6, 0.7, 0.8, 0.9], 'penalty': ['l1', 'l2']}\n"
                }
            ],
            "metadata": {}
        },
        {
            "source": "# instantiate and fit the grid\ngrid = GridSearchCV(lreg, param_grid, cv=3, scoring='roc_auc')\ngrid.fit(X, y)",
            "cell_type": "code",
            "execution_count": 41,
            "outputs": [
                {
                    "execution_count": 41,
                    "metadata": {},
                    "data": {
                        "text/plain": "GridSearchCV(cv=3, error_score='raise',\n       estimator=LogisticRegression(C=1.0, class_weight=None, dual=False, fit_intercept=True,\n          intercept_scaling=1, max_iter=100, multi_class='ovr', n_jobs=1,\n          penalty='l2', random_state=None, solver='liblinear', tol=0.0001,\n          verbose=0, warm_start=False),\n       fit_params={}, iid=True, n_jobs=1,\n       param_grid={'C': [0.1, 0.2, 0.3, 0.4, 0.5, 0.6, 0.7, 0.8, 0.9], 'penalty': ['l1', 'l2']},\n       pre_dispatch='2*n_jobs', refit=True, return_train_score=True,\n       scoring='roc_auc', verbose=0)"
                    },
                    "output_type": "execute_result"
                }
            ],
            "metadata": {}
        },
        {
            "source": "# examine the best model\nprint('Best AUC for Logistic Regression = {:.2f}'.format(grid.best_score_))\nprint('')\nprint('Parameters for Best AUC for Logistic Regression = {}'.format(grid.best_params_))\nprint('')\nprint('Full list of paramemters for best estimator for Logistic Regression:\\n {}'.format(grid.best_estimator_))",
            "cell_type": "code",
            "execution_count": 42,
            "outputs": [
                {
                    "output_type": "stream",
                    "name": "stdout",
                    "text": "Best AUC for Logistic Regression = 0.81\n\nParameters for Best AUC for Logistic Regression = {'C': 0.1, 'penalty': 'l1'}\n\nFull list of paramemters for best estimator for Logistic Regression:\n LogisticRegression(C=0.1, class_weight=None, dual=False, fit_intercept=True,\n          intercept_scaling=1, max_iter=100, multi_class='ovr', n_jobs=1,\n          penalty='l1', random_state=None, solver='liblinear', tol=0.0001,\n          verbose=0, warm_start=False)\n"
                }
            ],
            "metadata": {}
        },
        {
            "source": "",
            "cell_type": "code",
            "execution_count": null,
            "outputs": [],
            "metadata": {
                "collapsed": true
            }
        }
    ],
    "nbformat": 4,
    "metadata": {
        "kernelspec": {
            "display_name": "Python 3.5",
            "name": "python3",
            "language": "python"
        },
        "language_info": {
            "mimetype": "text/x-python",
            "nbconvert_exporter": "python",
            "version": "3.5.5",
            "name": "python",
            "file_extension": ".py",
            "pygments_lexer": "ipython3",
            "codemirror_mode": {
                "version": 3,
                "name": "ipython"
            }
        }
    }
}