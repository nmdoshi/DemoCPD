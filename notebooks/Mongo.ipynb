{
    "nbformat_minor": 1,
    "cells": [
        {
            "source": "sc.version",
            "cell_type": "code",
            "execution_count": 1,
            "outputs": [
                {
                    "output_type": "execute_result",
                    "metadata": {},
                    "data": {
                        "text/plain": "u'2.1.2'"
                    },
                    "execution_count": 1
                }
            ],
            "metadata": {}
        },
        {
            "source": "!ls ../../data/libs",
            "cell_type": "code",
            "execution_count": 2,
            "outputs": [
                {
                    "output_type": "stream",
                    "name": "stdout",
                    "text": "mongo-spark-connector_2.10-2.1.1.jar  pixiedust.jar\r\nmongo-spark-connector_2.11-2.1.1.jar  postgresql-9.4.1207.jre7.jar\r\n"
                }
            ],
            "metadata": {}
        },
        {
            "source": "#!wget http://repo1.maven.org/maven2/org/mongodb/spark/mongo-spark-connector_2.11/2.1.1/mongo-spark-connector_2.11-2.1.1.jar",
            "cell_type": "code",
            "execution_count": 12,
            "outputs": [
                {
                    "output_type": "stream",
                    "name": "stdout",
                    "text": "--2018-01-22 14:17:08--  http://repo1.maven.org/maven2/org/mongodb/spark/mongo-spark-connector_2.11/2.1.1/mongo-spark-connector_2.11-2.1.1.jar\nResolving repo1.maven.org (repo1.maven.org)... 151.101.48.209\nConnecting to repo1.maven.org (repo1.maven.org)|151.101.48.209|:80... connected.\nHTTP request sent, awaiting response... 200 OK\nLength: 688155 (672K) [application/java-archive]\nSaving to: \u2018mongo-spark-connector_2.11-2.1.1.jar\u2019\n\n100%[======================================>] 688,155     --.-K/s   in 0.02s   \n\n2018-01-22 14:17:09 (38.2 MB/s) - \u2018mongo-spark-connector_2.11-2.1.1.jar\u2019 saved [688155/688155]\n\n"
                }
            ],
            "metadata": {}
        },
        {
            "source": "#!rm ../../data/libs/mongo*",
            "cell_type": "code",
            "execution_count": 10,
            "outputs": [],
            "metadata": {}
        },
        {
            "source": "import pixiedust",
            "cell_type": "code",
            "execution_count": 4,
            "outputs": [
                {
                    "output_type": "stream",
                    "name": "stdout",
                    "text": "Pixiedust database opened successfully\n"
                },
                {
                    "output_type": "display_data",
                    "data": {
                        "text/html": "\n        <div style=\"margin:10px\">\n            <a href=\"https://github.com/ibm-watson-data-lab/pixiedust\" target=\"_new\">\n                <img src=\"https://github.com/ibm-watson-data-lab/pixiedust/raw/master/docs/_static/pd_icon32.png\" style=\"float:left;margin-right:10px\"/>\n            </a>\n            <span>Pixiedust version 1.1.6</span>\n        </div>\n        ",
                        "text/plain": "<IPython.core.display.HTML object>"
                    },
                    "metadata": {}
                }
            ],
            "metadata": {}
        },
        {
            "source": "#pixiedust.installPackage(\"org.mongodb.spark:mongo-spark-connector_2.11:2.1.1\")",
            "cell_type": "code",
            "execution_count": 1,
            "outputs": [],
            "metadata": {}
        },
        {
            "source": "pixiedust.printAllPackages()",
            "cell_type": "code",
            "execution_count": 5,
            "outputs": [
                {
                    "output_type": "stream",
                    "name": "stdout",
                    "text": "direct.download:https://jdbc.postgresql.org/download/postgresql-9.4.1207.jre7.jar:1.0 => /gpfs/fs01/user/s3b2-c7634938ff52ab-a5f39cf201a0/data/libs/postgresql-9.4.1207.jre7.jar\norg.mongodb.spark:mongo-spark-connector_2.10:2.1.1 => /gpfs/fs01/user/s3b2-c7634938ff52ab-a5f39cf201a0/data/libs/mongo-spark-connector_2.10-2.1.1.jar\norg.mongodb.spark:mongo-spark-connector_2.11:2.1.1 => /gpfs/fs01/user/s3b2-c7634938ff52ab-a5f39cf201a0/data/libs/mongo-spark-connector_2.11-2.1.1.jar\n"
                }
            ],
            "metadata": {}
        },
        {
            "source": "df = spark.read.format(\"com.mongodb.spark.sql.DefaultSource\").option(\"uri\",\n\"mongodb://127.0.0.1/people.contacts\").load()",
            "cell_type": "code",
            "execution_count": 7,
            "outputs": [
                {
                    "output_type": "error",
                    "evalue": "An error occurred while calling o113.load.\n: java.lang.NoClassDefFoundError: com/mongodb/ConnectionString\n\tat com.mongodb.spark.config.MongoCompanionConfig$$anonfun$4.apply(MongoCompanionConfig.scala:278)\n\tat com.mongodb.spark.config.MongoCompanionConfig$$anonfun$4.apply(MongoCompanionConfig.scala:278)\n\tat scala.util.Try$.apply(Try.scala:192)\n\tat com.mongodb.spark.config.MongoCompanionConfig$class.connectionString(MongoCompanionConfig.scala:278)\n\tat com.mongodb.spark.config.ReadConfig$.connectionString(ReadConfig.scala:39)\n\tat com.mongodb.spark.config.ReadConfig$.apply(ReadConfig.scala:51)\n\tat com.mongodb.spark.config.ReadConfig$.apply(ReadConfig.scala:39)\n\tat com.mongodb.spark.config.MongoCompanionConfig$class.apply(MongoCompanionConfig.scala:124)\n\tat com.mongodb.spark.config.ReadConfig$.apply(ReadConfig.scala:39)\n\tat com.mongodb.spark.config.MongoCompanionConfig$class.apply(MongoCompanionConfig.scala:113)\n\tat com.mongodb.spark.config.ReadConfig$.apply(ReadConfig.scala:39)\n\tat com.mongodb.spark.sql.DefaultSource.createRelation(DefaultSource.scala:67)\n\tat com.mongodb.spark.sql.DefaultSource.createRelation(DefaultSource.scala:50)\n\tat org.apache.spark.sql.execution.datasources.DataSource.resolveRelation(DataSource.scala:330)\n\tat org.apache.spark.sql.DataFrameReader.load(DataFrameReader.scala:152)\n\tat org.apache.spark.sql.DataFrameReader.load(DataFrameReader.scala:125)\n\tat sun.reflect.NativeMethodAccessorImpl.invoke0(Native Method)\n\tat sun.reflect.NativeMethodAccessorImpl.invoke(NativeMethodAccessorImpl.java:95)\n\tat sun.reflect.DelegatingMethodAccessorImpl.invoke(DelegatingMethodAccessorImpl.java:55)\n\tat java.lang.reflect.Method.invoke(Method.java:507)\n\tat py4j.reflection.MethodInvoker.invoke(MethodInvoker.java:244)\n\tat py4j.reflection.ReflectionEngine.invoke(ReflectionEngine.java:357)\n\tat py4j.Gateway.invoke(Gateway.java:280)\n\tat py4j.commands.AbstractCommand.invokeMethod(AbstractCommand.java:132)\n\tat py4j.commands.CallCommand.execute(CallCommand.java:79)\n\tat py4j.GatewayConnection.run(GatewayConnection.java:214)\n\tat java.lang.Thread.run(Thread.java:785)\n",
                    "traceback": [
                        "\u001b[0;31m\u001b[0m",
                        "\u001b[0;31mPy4JJavaError\u001b[0mTraceback (most recent call last)",
                        "\u001b[0;32m<ipython-input-7-47aa61a40bc2>\u001b[0m in \u001b[0;36m<module>\u001b[0;34m()\u001b[0m\n\u001b[1;32m      1\u001b[0m df = spark.read.format(\"com.mongodb.spark.sql.DefaultSource\").option(\"uri\",\n\u001b[0;32m----> 2\u001b[0;31m \"mongodb://127.0.0.1/people.contacts\").load()\n\u001b[0m",
                        "\u001b[0;32m/usr/local/src/spark21master/spark/python/pyspark/sql/readwriter.py\u001b[0m in \u001b[0;36mload\u001b[0;34m(self, path, format, schema, **options)\u001b[0m\n\u001b[1;32m    153\u001b[0m             \u001b[0;32mreturn\u001b[0m \u001b[0mself\u001b[0m\u001b[0;34m.\u001b[0m\u001b[0m_df\u001b[0m\u001b[0;34m(\u001b[0m\u001b[0mself\u001b[0m\u001b[0;34m.\u001b[0m\u001b[0m_jreader\u001b[0m\u001b[0;34m.\u001b[0m\u001b[0mload\u001b[0m\u001b[0;34m(\u001b[0m\u001b[0mself\u001b[0m\u001b[0;34m.\u001b[0m\u001b[0m_spark\u001b[0m\u001b[0;34m.\u001b[0m\u001b[0m_sc\u001b[0m\u001b[0;34m.\u001b[0m\u001b[0m_jvm\u001b[0m\u001b[0;34m.\u001b[0m\u001b[0mPythonUtils\u001b[0m\u001b[0;34m.\u001b[0m\u001b[0mtoSeq\u001b[0m\u001b[0;34m(\u001b[0m\u001b[0mpath\u001b[0m\u001b[0;34m)\u001b[0m\u001b[0;34m)\u001b[0m\u001b[0;34m)\u001b[0m\u001b[0;34m\u001b[0m\u001b[0m\n\u001b[1;32m    154\u001b[0m         \u001b[0;32melse\u001b[0m\u001b[0;34m:\u001b[0m\u001b[0;34m\u001b[0m\u001b[0m\n\u001b[0;32m--> 155\u001b[0;31m             \u001b[0;32mreturn\u001b[0m \u001b[0mself\u001b[0m\u001b[0;34m.\u001b[0m\u001b[0m_df\u001b[0m\u001b[0;34m(\u001b[0m\u001b[0mself\u001b[0m\u001b[0;34m.\u001b[0m\u001b[0m_jreader\u001b[0m\u001b[0;34m.\u001b[0m\u001b[0mload\u001b[0m\u001b[0;34m(\u001b[0m\u001b[0;34m)\u001b[0m\u001b[0;34m)\u001b[0m\u001b[0;34m\u001b[0m\u001b[0m\n\u001b[0m\u001b[1;32m    156\u001b[0m \u001b[0;34m\u001b[0m\u001b[0m\n\u001b[1;32m    157\u001b[0m     \u001b[0;34m@\u001b[0m\u001b[0msince\u001b[0m\u001b[0;34m(\u001b[0m\u001b[0;36m1.4\u001b[0m\u001b[0;34m)\u001b[0m\u001b[0;34m\u001b[0m\u001b[0m\n",
                        "\u001b[0;32m/usr/local/src/spark21master/spark/python/lib/py4j-0.10.4-src.zip/py4j/java_gateway.py\u001b[0m in \u001b[0;36m__call__\u001b[0;34m(self, *args)\u001b[0m\n\u001b[1;32m   1131\u001b[0m         \u001b[0manswer\u001b[0m \u001b[0;34m=\u001b[0m \u001b[0mself\u001b[0m\u001b[0;34m.\u001b[0m\u001b[0mgateway_client\u001b[0m\u001b[0;34m.\u001b[0m\u001b[0msend_command\u001b[0m\u001b[0;34m(\u001b[0m\u001b[0mcommand\u001b[0m\u001b[0;34m)\u001b[0m\u001b[0;34m\u001b[0m\u001b[0m\n\u001b[1;32m   1132\u001b[0m         return_value = get_return_value(\n\u001b[0;32m-> 1133\u001b[0;31m             answer, self.gateway_client, self.target_id, self.name)\n\u001b[0m\u001b[1;32m   1134\u001b[0m \u001b[0;34m\u001b[0m\u001b[0m\n\u001b[1;32m   1135\u001b[0m         \u001b[0;32mfor\u001b[0m \u001b[0mtemp_arg\u001b[0m \u001b[0;32min\u001b[0m \u001b[0mtemp_args\u001b[0m\u001b[0;34m:\u001b[0m\u001b[0;34m\u001b[0m\u001b[0m\n",
                        "\u001b[0;32m/usr/local/src/spark21master/spark/python/pyspark/sql/utils.py\u001b[0m in \u001b[0;36mdeco\u001b[0;34m(*a, **kw)\u001b[0m\n\u001b[1;32m     61\u001b[0m     \u001b[0;32mdef\u001b[0m \u001b[0mdeco\u001b[0m\u001b[0;34m(\u001b[0m\u001b[0;34m*\u001b[0m\u001b[0ma\u001b[0m\u001b[0;34m,\u001b[0m \u001b[0;34m**\u001b[0m\u001b[0mkw\u001b[0m\u001b[0;34m)\u001b[0m\u001b[0;34m:\u001b[0m\u001b[0;34m\u001b[0m\u001b[0m\n\u001b[1;32m     62\u001b[0m         \u001b[0;32mtry\u001b[0m\u001b[0;34m:\u001b[0m\u001b[0;34m\u001b[0m\u001b[0m\n\u001b[0;32m---> 63\u001b[0;31m             \u001b[0;32mreturn\u001b[0m \u001b[0mf\u001b[0m\u001b[0;34m(\u001b[0m\u001b[0;34m*\u001b[0m\u001b[0ma\u001b[0m\u001b[0;34m,\u001b[0m \u001b[0;34m**\u001b[0m\u001b[0mkw\u001b[0m\u001b[0;34m)\u001b[0m\u001b[0;34m\u001b[0m\u001b[0m\n\u001b[0m\u001b[1;32m     64\u001b[0m         \u001b[0;32mexcept\u001b[0m \u001b[0mpy4j\u001b[0m\u001b[0;34m.\u001b[0m\u001b[0mprotocol\u001b[0m\u001b[0;34m.\u001b[0m\u001b[0mPy4JJavaError\u001b[0m \u001b[0;32mas\u001b[0m \u001b[0me\u001b[0m\u001b[0;34m:\u001b[0m\u001b[0;34m\u001b[0m\u001b[0m\n\u001b[1;32m     65\u001b[0m             \u001b[0ms\u001b[0m \u001b[0;34m=\u001b[0m \u001b[0me\u001b[0m\u001b[0;34m.\u001b[0m\u001b[0mjava_exception\u001b[0m\u001b[0;34m.\u001b[0m\u001b[0mtoString\u001b[0m\u001b[0;34m(\u001b[0m\u001b[0;34m)\u001b[0m\u001b[0;34m\u001b[0m\u001b[0m\n",
                        "\u001b[0;32m/usr/local/src/spark21master/spark/python/lib/py4j-0.10.4-src.zip/py4j/protocol.py\u001b[0m in \u001b[0;36mget_return_value\u001b[0;34m(answer, gateway_client, target_id, name)\u001b[0m\n\u001b[1;32m    317\u001b[0m                 raise Py4JJavaError(\n\u001b[1;32m    318\u001b[0m                     \u001b[0;34m\"An error occurred while calling {0}{1}{2}.\\n\"\u001b[0m\u001b[0;34m.\u001b[0m\u001b[0;34m\u001b[0m\u001b[0m\n\u001b[0;32m--> 319\u001b[0;31m                     format(target_id, \".\", name), value)\n\u001b[0m\u001b[1;32m    320\u001b[0m             \u001b[0;32melse\u001b[0m\u001b[0;34m:\u001b[0m\u001b[0;34m\u001b[0m\u001b[0m\n\u001b[1;32m    321\u001b[0m                 raise Py4JError(\n",
                        "\u001b[0;31mPy4JJavaError\u001b[0m: An error occurred while calling o113.load.\n: java.lang.NoClassDefFoundError: com/mongodb/ConnectionString\n\tat com.mongodb.spark.config.MongoCompanionConfig$$anonfun$4.apply(MongoCompanionConfig.scala:278)\n\tat com.mongodb.spark.config.MongoCompanionConfig$$anonfun$4.apply(MongoCompanionConfig.scala:278)\n\tat scala.util.Try$.apply(Try.scala:192)\n\tat com.mongodb.spark.config.MongoCompanionConfig$class.connectionString(MongoCompanionConfig.scala:278)\n\tat com.mongodb.spark.config.ReadConfig$.connectionString(ReadConfig.scala:39)\n\tat com.mongodb.spark.config.ReadConfig$.apply(ReadConfig.scala:51)\n\tat com.mongodb.spark.config.ReadConfig$.apply(ReadConfig.scala:39)\n\tat com.mongodb.spark.config.MongoCompanionConfig$class.apply(MongoCompanionConfig.scala:124)\n\tat com.mongodb.spark.config.ReadConfig$.apply(ReadConfig.scala:39)\n\tat com.mongodb.spark.config.MongoCompanionConfig$class.apply(MongoCompanionConfig.scala:113)\n\tat com.mongodb.spark.config.ReadConfig$.apply(ReadConfig.scala:39)\n\tat com.mongodb.spark.sql.DefaultSource.createRelation(DefaultSource.scala:67)\n\tat com.mongodb.spark.sql.DefaultSource.createRelation(DefaultSource.scala:50)\n\tat org.apache.spark.sql.execution.datasources.DataSource.resolveRelation(DataSource.scala:330)\n\tat org.apache.spark.sql.DataFrameReader.load(DataFrameReader.scala:152)\n\tat org.apache.spark.sql.DataFrameReader.load(DataFrameReader.scala:125)\n\tat sun.reflect.NativeMethodAccessorImpl.invoke0(Native Method)\n\tat sun.reflect.NativeMethodAccessorImpl.invoke(NativeMethodAccessorImpl.java:95)\n\tat sun.reflect.DelegatingMethodAccessorImpl.invoke(DelegatingMethodAccessorImpl.java:55)\n\tat java.lang.reflect.Method.invoke(Method.java:507)\n\tat py4j.reflection.MethodInvoker.invoke(MethodInvoker.java:244)\n\tat py4j.reflection.ReflectionEngine.invoke(ReflectionEngine.java:357)\n\tat py4j.Gateway.invoke(Gateway.java:280)\n\tat py4j.commands.AbstractCommand.invokeMethod(AbstractCommand.java:132)\n\tat py4j.commands.CallCommand.execute(CallCommand.java:79)\n\tat py4j.GatewayConnection.run(GatewayConnection.java:214)\n\tat java.lang.Thread.run(Thread.java:785)\n"
                    ],
                    "ename": "Py4JJavaError"
                }
            ],
            "metadata": {}
        },
        {
            "source": "!ls $(printenv SPARK_DIST_CLASSPATH | sed -e 's/:/ /g')",
            "cell_type": "code",
            "execution_count": 9,
            "outputs": [
                {
                    "output_type": "stream",
                    "name": "stdout",
                    "text": "ls: cannot access /gpfs/fs01/user/s3b2-c7634938ff52ab-a5f39cf201a0/data/libs/scala-2.11/*: No such file or directory\r\nls: cannot access /usr/local/src/dataconnector-dw-2.0/spark-2.0.0/Server/connectivity/jdbc/lib/*: No such file or directory\r\nls: cannot access /usr/local/src/dataconnector-dw-2.0/spark-2.0.0/Server/connectivity/FaspStreamSDK/lib/*: No such file or directory\r\nls: cannot access /usr/local/src/dataconnector-dw-2.0/spark-2.0.0/Server/connectivity/jars/JISPlugins/*: No such file or directory\r\nls: cannot access /usr/local/src/dataconnector-dw-2.0/spark-2.0.0/Server/connectivity/branded_jdbc/lib/*: No such file or directory\r\n/gpfs/fs01/user/s3b2-c7634938ff52ab-a5f39cf201a0/data/libs/mongo-spark-connector_2.10-2.1.1.jar\r\n/gpfs/fs01/user/s3b2-c7634938ff52ab-a5f39cf201a0/data/libs/mongo-spark-connector_2.11-2.1.1.jar\r\n/gpfs/fs01/user/s3b2-c7634938ff52ab-a5f39cf201a0/data/libs/pixiedust.jar\r\n/gpfs/fs01/user/s3b2-c7634938ff52ab-a5f39cf201a0/data/libs/postgresql-9.4.1207.jre7.jar\r\n/usr/local/src/analytic-libs/common/mysql-connector-java-6.0.2.jar\r\n/usr/local/src/analytic-libs/spark-2.1/ibmos2spark_2.11-0.0.9.jar\r\n/usr/local/src/analytic-libs/spark-2.1/project-notebook-integration_2.11-0.10.3.jar\r\n/usr/local/src/analytic-libs/spark-2.1/spss-assembly-spark2.0-scala2.11-5.0.0.0-201711102229.jar\r\n/usr/local/src/analytic-libs/spark-2.1/systemml-0.15.0-extra.jar\r\n/usr/local/src/analytic-libs/spark-2.1/systemml-0.15.0.jar\r\n/usr/local/src/bluemix_jupyter_bundle.v77/provision/jars/common/DSX_spark_monitor_common.jar\r\n/usr/local/src/bluemix_jupyter_bundle.v77/provision/jars/scala-2.11/DSX_spark_monitor_2.11.jar\r\n/usr/local/src/dataconnector-cloudant-2.0/spark-2.0.0/libs/dataconnector-cloudant-2.0-2.0.0-185.8-uber.jar\r\n/usr/local/src/dataconnector-cloudant-2.0/spark-2.0.0/libs/spark-cloudant-2.0.0-185.jar\r\n/usr/local/src/dataconnector-db2/db2jcc4-10.5.0.6.jar\r\n/usr/local/src/dataconnector-db2/install.sh\r\n/usr/local/src/dataconnector-db2/uninstall.sh\r\n/usr/local/src/dataconnector-dw-2.0/spark-2.0.0/ASBServer/apps/lib/iis/prs/avro.jar\r\n/usr/local/src/dataconnector-dw-2.0/spark-2.0.0/ASBServer/apps/lib/iis/prs/ibmdwhierintegration-common.jar\r\n/usr/local/src/dataconnector-dw-2.0/spark-2.0.0/ASBServer/apps/lib/iis/prs/ibmdwhierintegration-engine.jar\r\n/usr/local/src/dataconnector-dw-2.0/spark-2.0.0/ASBServer/apps/lib/iis/prs/jsonschema-common.jar\r\n/usr/local/src/dataconnector-dw-2.0/spark-2.0.0/ASBServer/apps/lib/iis/prs/jsonschema-core-V2.jar\r\n/usr/local/src/dataconnector-dw-2.0/spark-2.0.0/ASBServer/apps/lib/iis/prs/jsonschema-service.jar\r\n/usr/local/src/dataconnector-dw-2.0/spark-2.0.0/ASBServer/apps/lib/iis/prs/physicalresource-service.jar\r\n/usr/local/src/dataconnector-dw-2.0/spark-2.0.0/ASBServer/apps/lib/iis/prs/prs-dto.jar\r\n/usr/local/src/dataconnector-dw-2.0/spark-2.0.0/ASBServer/apps/lib/iis/prs/prswrapper.jar\r\n/usr/local/src/dataconnector-dw-2.0/spark-2.0.0/ASBServer/apps/lib/iis/prs/scapi-dw.jar\r\n/usr/local/src/dataconnector-dw-2.0/spark-2.0.0/ASBServer/apps/lib/iis/prs/scapi-fileformat.jar\r\n/usr/local/src/dataconnector-dw-2.0/spark-2.0.0/ASBServer/apps/lib/iis/prs/scapi.jar\r\n/usr/local/src/dataconnector-dw-2.0/spark-2.0.0/ASBServer/apps/lib/iis/prs/scapi-util.jar\r\n/usr/local/src/dataconnector-dw-2.0/spark-2.0.0/ASBServer/apps/lib/iis/tlsproxy/TLSProxyService.jar\r\n/usr/local/src/dataconnector-dw-2.0/spark-2.0.0/libs/SparkRelationProvider2.0-12.0.0.1-20170411-1232.jar\r\n/usr/local/src/dataconnector-dw-2.0/spark-2.0.0/Server/connectivity/connectors/com.ibm.iis.scapi.dw.file.amazons3.AmazonS3ConnectorFactory/additional-jars.properties\r\n/usr/local/src/dataconnector-dw-2.0/spark-2.0.0/Server/connectivity/connectors/com.ibm.iis.scapi.dw.file.amazons3.AmazonS3ConnectorFactory/amazons3.jar\r\n/usr/local/src/dataconnector-dw-2.0/spark-2.0.0/Server/connectivity/connectors/com.ibm.iis.scapi.dw.file.cloudant.CloudantConnectorFactory/additional-jars.properties\r\n/usr/local/src/dataconnector-dw-2.0/spark-2.0.0/Server/connectivity/connectors/com.ibm.iis.scapi.dw.file.cloudant.CloudantConnectorFactory/cloudant.jar\r\n/usr/local/src/dataconnector-dw-2.0/spark-2.0.0/Server/connectivity/connectors/com.ibm.iis.scapi.dw.file.datalake.DataLakeConnectorFactory/additional-jars.properties\r\n/usr/local/src/dataconnector-dw-2.0/spark-2.0.0/Server/connectivity/connectors/com.ibm.iis.scapi.dw.file.datalake.DataLakeConnectorFactory/datalake.jar\r\n/usr/local/src/dataconnector-dw-2.0/spark-2.0.0/Server/connectivity/connectors/com.ibm.iis.scapi.dw.file.swift.SwiftConnectorFactory/additional-jars.properties\r\n/usr/local/src/dataconnector-dw-2.0/spark-2.0.0/Server/connectivity/connectors/com.ibm.iis.scapi.dw.file.swift.SwiftConnectorFactory/swift.jar\r\n/usr/local/src/dataconnector-dw-2.0/spark-2.0.0/Server/connectivity/connectors/com.ibm.iis.scapi.dw.file.watson.WatsonConnectorFactory/additional-jars.properties\r\n/usr/local/src/dataconnector-dw-2.0/spark-2.0.0/Server/connectivity/connectors/com.ibm.iis.scapi.dw.file.watson.WatsonConnectorFactory/watson.jar\r\n/usr/local/src/dataconnector-dw-2.0/spark-2.0.0/Server/connectivity/connectors/com.ibm.iis.scapi.dw.file.webhdfs.WebHDFSConnectorFactory/additional-jars.properties\r\n/usr/local/src/dataconnector-dw-2.0/spark-2.0.0/Server/connectivity/connectors/com.ibm.iis.scapi.dw.file.webhdfs.WebHDFSConnectorFactory/IShive.jar\r\n/usr/local/src/dataconnector-dw-2.0/spark-2.0.0/Server/connectivity/connectors/com.ibm.iis.scapi.dw.file.webhdfs.WebHDFSConnectorFactory/webhdfs.jar\r\n/usr/local/src/dataconnector-dw-2.0/spark-2.0.0/Server/connectivity/connectors/com.ibm.iis.scapi.dw.jdbc.azuresql.AzureSQLConnectorFactory/azuresql.jar\r\n/usr/local/src/dataconnector-dw-2.0/spark-2.0.0/Server/connectivity/connectors/com.ibm.iis.scapi.dw.jdbc.azuresql.AzureSQLConnectorFactory/ISsqlserver.jar\r\n/usr/local/src/dataconnector-dw-2.0/spark-2.0.0/Server/connectivity/connectors/com.ibm.iis.scapi.dw.jdbc.dashdb.DashdbConnectorFactory/dashdb.jar\r\n/usr/local/src/dataconnector-dw-2.0/spark-2.0.0/Server/connectivity/connectors/com.ibm.iis.scapi.dw.jdbc.dashdb.DashdbConnectorFactory/db2jcc4.jar\r\n/usr/local/src/dataconnector-dw-2.0/spark-2.0.0/Server/connectivity/connectors/com.ibm.iis.scapi.dw.jdbc.db2.DB2ConnectorFactory/db2.jar\r\n/usr/local/src/dataconnector-dw-2.0/spark-2.0.0/Server/connectivity/connectors/com.ibm.iis.scapi.dw.jdbc.db2.DB2ConnectorFactory/db2jcc4.jar\r\n/usr/local/src/dataconnector-dw-2.0/spark-2.0.0/Server/connectivity/connectors/com.ibm.iis.scapi.dw.jdbc.db2zos.DB2zOSConnectorFactory/db2jcc4.jar\r\n/usr/local/src/dataconnector-dw-2.0/spark-2.0.0/Server/connectivity/connectors/com.ibm.iis.scapi.dw.jdbc.db2zos.DB2zOSConnectorFactory/db2jcc_license_cisuz.jar\r\n/usr/local/src/dataconnector-dw-2.0/spark-2.0.0/Server/connectivity/connectors/com.ibm.iis.scapi.dw.jdbc.db2zos.DB2zOSConnectorFactory/db2zos.jar\r\n/usr/local/src/dataconnector-dw-2.0/spark-2.0.0/Server/connectivity/connectors/com.ibm.iis.scapi.dw.jdbc.greenplum.GreenplumConnectorFactory/greenplum.jar\r\n/usr/local/src/dataconnector-dw-2.0/spark-2.0.0/Server/connectivity/connectors/com.ibm.iis.scapi.dw.jdbc.greenplum.GreenplumConnectorFactory/ISgreenplum.jar\r\n/usr/local/src/dataconnector-dw-2.0/spark-2.0.0/Server/connectivity/connectors/com.ibm.iis.scapi.dw.jdbc.hive.HiveConnectorFactory/hive.jar\r\n/usr/local/src/dataconnector-dw-2.0/spark-2.0.0/Server/connectivity/connectors/com.ibm.iis.scapi.dw.jdbc.hive.HiveConnectorFactory/IShive.jar\r\n/usr/local/src/dataconnector-dw-2.0/spark-2.0.0/Server/connectivity/connectors/com.ibm.iis.scapi.dw.jdbc.impala.ImpalaConnectorFactory/impala.jar\r\n/usr/local/src/dataconnector-dw-2.0/spark-2.0.0/Server/connectivity/connectors/com.ibm.iis.scapi.dw.jdbc.impala.ImpalaConnectorFactory/ISimpala.jar\r\n/usr/local/src/dataconnector-dw-2.0/spark-2.0.0/Server/connectivity/connectors/com.ibm.iis.scapi.dw.jdbc.informix.InformixConnectorFactory/informix.jar\r\n/usr/local/src/dataconnector-dw-2.0/spark-2.0.0/Server/connectivity/connectors/com.ibm.iis.scapi.dw.jdbc.informix.InformixConnectorFactory/ISinformix.jar\r\n/usr/local/src/dataconnector-dw-2.0/spark-2.0.0/Server/connectivity/connectors/com.ibm.iis.scapi.dw.jdbc.mysqlcompose.MySQLComposeConnectorFactory/mysql-compose.jar\r\n/usr/local/src/dataconnector-dw-2.0/spark-2.0.0/Server/connectivity/connectors/com.ibm.iis.scapi.dw.jdbc.mysqlcompose.MySQLComposeConnectorFactory/mysql-jdbc-driver.jar\r\n/usr/local/src/dataconnector-dw-2.0/spark-2.0.0/Server/connectivity/connectors/com.ibm.iis.scapi.dw.jdbc.mysql.MySQLConnectorFactory/ISmysql.jar\r\n/usr/local/src/dataconnector-dw-2.0/spark-2.0.0/Server/connectivity/connectors/com.ibm.iis.scapi.dw.jdbc.mysql.MySQLConnectorFactory/mysql.jar\r\n/usr/local/src/dataconnector-dw-2.0/spark-2.0.0/Server/connectivity/connectors/com.ibm.iis.scapi.dw.jdbc.mysql.MySQLConnectorFactory/mysql-jdbc-driver.jar\r\n/usr/local/src/dataconnector-dw-2.0/spark-2.0.0/Server/connectivity/connectors/com.ibm.iis.scapi.dw.jdbc.netezza.NetezzaConnectorFactory/netezza.jar\r\n/usr/local/src/dataconnector-dw-2.0/spark-2.0.0/Server/connectivity/connectors/com.ibm.iis.scapi.dw.jdbc.netezza.NetezzaConnectorFactory/nzjdbc3.jar\r\n/usr/local/src/dataconnector-dw-2.0/spark-2.0.0/Server/connectivity/connectors/com.ibm.iis.scapi.dw.jdbc.oracle.OracleConnectorFactory/ISoracle.jar\r\n/usr/local/src/dataconnector-dw-2.0/spark-2.0.0/Server/connectivity/connectors/com.ibm.iis.scapi.dw.jdbc.oracle.OracleConnectorFactory/oracle.jar\r\n/usr/local/src/dataconnector-dw-2.0/spark-2.0.0/Server/connectivity/connectors/com.ibm.iis.scapi.dw.jdbc.postgresqlcompose.PostgreSQLComposeConnectorFactory/ISpostgresql.jar\r\n/usr/local/src/dataconnector-dw-2.0/spark-2.0.0/Server/connectivity/connectors/com.ibm.iis.scapi.dw.jdbc.postgresqlcompose.PostgreSQLComposeConnectorFactory/postgresql-compose.jar\r\n/usr/local/src/dataconnector-dw-2.0/spark-2.0.0/Server/connectivity/connectors/com.ibm.iis.scapi.dw.jdbc.postgresql.PostgreSQLConnectorFactory/ISpostgresql.jar\r\n/usr/local/src/dataconnector-dw-2.0/spark-2.0.0/Server/connectivity/connectors/com.ibm.iis.scapi.dw.jdbc.postgresql.PostgreSQLConnectorFactory/postgresql.jar\r\n/usr/local/src/dataconnector-dw-2.0/spark-2.0.0/Server/connectivity/connectors/com.ibm.iis.scapi.dw.jdbc.redshift.RedshiftConnectorFactory/ISredshift.jar\r\n/usr/local/src/dataconnector-dw-2.0/spark-2.0.0/Server/connectivity/connectors/com.ibm.iis.scapi.dw.jdbc.redshift.RedshiftConnectorFactory/redshift.jar\r\n/usr/local/src/dataconnector-dw-2.0/spark-2.0.0/Server/connectivity/connectors/com.ibm.iis.scapi.dw.jdbc.salesforce.SalesforceConnectorFactory/ISsforce.jar\r\n/usr/local/src/dataconnector-dw-2.0/spark-2.0.0/Server/connectivity/connectors/com.ibm.iis.scapi.dw.jdbc.salesforce.SalesforceConnectorFactory/salesforce.jar\r\n/usr/local/src/dataconnector-dw-2.0/spark-2.0.0/Server/connectivity/connectors/com.ibm.iis.scapi.dw.jdbc.sqlserver.SQLServerConnectorFactory/ISsqlserver.jar\r\n/usr/local/src/dataconnector-dw-2.0/spark-2.0.0/Server/connectivity/connectors/com.ibm.iis.scapi.dw.jdbc.sqlserver.SQLServerConnectorFactory/sqlserver.jar\r\n/usr/local/src/dataconnector-dw-2.0/spark-2.0.0/Server/connectivity/connectors/com.ibm.iis.scapi.dw.jdbc.sybase.SybaseConnectorFactory/ISsybase.jar\r\n/usr/local/src/dataconnector-dw-2.0/spark-2.0.0/Server/connectivity/connectors/com.ibm.iis.scapi.dw.jdbc.sybase.SybaseConnectorFactory/sybase.jar\r\n/usr/local/src/dataconnector-dw-2.0/spark-2.0.0/Server/connectivity/connectors/com.ibm.iis.scapi.json.JsonConnectorFactory/db2jcc4.jar\r\n/usr/local/src/dataconnector-dw-2.0/spark-2.0.0/Server/connectivity/connectors/com.ibm.iis.scapi.json.JsonConnectorFactory/ibmdwhierintegration-common.jar\r\n/usr/local/src/dataconnector-dw-2.0/spark-2.0.0/Server/connectivity/connectors/com.ibm.iis.scapi.json.JsonConnectorFactory/ibmdwhierintegration-engine.jar\r\n/usr/local/src/dataconnector-dw-2.0/spark-2.0.0/Server/connectivity/connectors/com.ibm.iis.scapi.json.JsonConnectorFactory/JSONConnector.jar\r\n/usr/local/src/dataconnector-dw-2.0/spark-2.0.0/Server/connectivity/connectors/com.ibm.iis.scapi.json.JsonConnectorFactory/jsonschema-common.jar\r\n/usr/local/src/dataconnector-dw-2.0/spark-2.0.0/Server/connectivity/connectors/com.ibm.iis.scapi.json.JsonConnectorFactory/jsonschema-core-V2.jar\r\n/usr/local/src/dataconnector-dw-2.0/spark-2.0.0/Server/connectivity/connectors/com.ibm.iis.scapi.json.JsonConnectorFactory/jsonschema-service.jar\r\n/usr/local/src/dataconnector-dw-2.0/spark-2.0.0/Server/connectivity/jars/FileConnector.jar\r\n/usr/local/src/dataconnector-dw-2.0/spark-2.0.0/Server/connectivity/jars/scapi-dw.jar\r\n/usr/local/src/dataconnector-dw-2.0/spark-2.0.0/Server/connectivity/jars/scapi-fileformat.jar\r\n/usr/local/src/dataconnector-dw-2.0/spark-2.0.0/Server/connectivity/jars/scapi.jar\r\n/usr/local/src/dataconnector-dw-2.0/spark-2.0.0/Server/connectivity/jars/scapi-util.jar\r\n/usr/local/src/dataconnector-dw-2.0/spark-2.0.0/Server/connectivity/thirdparty/aspera.tokengen.3.1.0.65813.jar\r\n/usr/local/src/dataconnector-dw-2.0/spark-2.0.0/Server/connectivity/thirdparty/avro-1.8.0.jar\r\n/usr/local/src/dataconnector-dw-2.0/spark-2.0.0/Server/connectivity/thirdparty/aws/aws-java-sdk-1.7.3.jar\r\n/usr/local/src/dataconnector-dw-2.0/spark-2.0.0/Server/connectivity/thirdparty/aws/jackson-annotations-2.4.4.jar\r\n/usr/local/src/dataconnector-dw-2.0/spark-2.0.0/Server/connectivity/thirdparty/aws/jackson-core-2.4.4.jar\r\n/usr/local/src/dataconnector-dw-2.0/spark-2.0.0/Server/connectivity/thirdparty/aws/jackson-databind-2.4.4.jar\r\n/usr/local/src/dataconnector-dw-2.0/spark-2.0.0/Server/connectivity/thirdparty/commons-codec-1.10.jar\r\n/usr/local/src/dataconnector-dw-2.0/spark-2.0.0/Server/connectivity/thirdparty/commons-codec-1.6.jar\r\n/usr/local/src/dataconnector-dw-2.0/spark-2.0.0/Server/connectivity/thirdparty/commons-collections-3.2.2.jar\r\n/usr/local/src/dataconnector-dw-2.0/spark-2.0.0/Server/connectivity/thirdparty/commons-configuration-1.7.jar\r\n/usr/local/src/dataconnector-dw-2.0/spark-2.0.0/Server/connectivity/thirdparty/commons-io-2.4.jar\r\n/usr/local/src/dataconnector-dw-2.0/spark-2.0.0/Server/connectivity/thirdparty/commons-lang-2.6.jar\r\n/usr/local/src/dataconnector-dw-2.0/spark-2.0.0/Server/connectivity/thirdparty/commons-logging-1.1.1.jar\r\n/usr/local/src/dataconnector-dw-2.0/spark-2.0.0/Server/connectivity/thirdparty/faspstream.jar\r\n/usr/local/src/dataconnector-dw-2.0/spark-2.0.0/Server/connectivity/thirdparty/gson.jar\r\n/usr/local/src/dataconnector-dw-2.0/spark-2.0.0/Server/connectivity/thirdparty/guava-14.0.1.jar\r\n/usr/local/src/dataconnector-dw-2.0/spark-2.0.0/Server/connectivity/thirdparty/hadoop-auth-2.7.0.jar\r\n/usr/local/src/dataconnector-dw-2.0/spark-2.0.0/Server/connectivity/thirdparty/hadoop-common-2.7.0.jar\r\n/usr/local/src/dataconnector-dw-2.0/spark-2.0.0/Server/connectivity/thirdparty/hadoop-core-1.1.0.jar\r\n/usr/local/src/dataconnector-dw-2.0/spark-2.0.0/Server/connectivity/thirdparty/httpclient-4.3.3.jar\r\n/usr/local/src/dataconnector-dw-2.0/spark-2.0.0/Server/connectivity/thirdparty/httpcore-4.3.2.jar\r\n/usr/local/src/dataconnector-dw-2.0/spark-2.0.0/Server/connectivity/thirdparty/httpmime.jar\r\n/usr/local/src/dataconnector-dw-2.0/spark-2.0.0/Server/connectivity/thirdparty/iis_util.jar\r\n/usr/local/src/dataconnector-dw-2.0/spark-2.0.0/Server/connectivity/thirdparty/jackson-core-asl-1.6.2.jar\r\n/usr/local/src/dataconnector-dw-2.0/spark-2.0.0/Server/connectivity/thirdparty/jackson-mapper-asl-1.6.2.jar\r\n/usr/local/src/dataconnector-dw-2.0/spark-2.0.0/Server/connectivity/thirdparty/JSON4J-1.1.0.0.jar\r\n/usr/local/src/dataconnector-dw-2.0/spark-2.0.0/Server/connectivity/thirdparty/log4j-1.2.17.jar\r\n/usr/local/src/dataconnector-dw-2.0/spark-2.0.0/Server/connectivity/thirdparty/parquet-avro-1.8.1.jar\r\n/usr/local/src/dataconnector-dw-2.0/spark-2.0.0/Server/connectivity/thirdparty/parquet-hadoop-bundle-1.8.1.jar\r\n/usr/local/src/dataconnector-dw-2.0/spark-2.0.0/Server/connectivity/thirdparty/poi-3.14.jar\r\n/usr/local/src/dataconnector-dw-2.0/spark-2.0.0/Server/connectivity/thirdparty/poi-ooxml-3.14.jar\r\n/usr/local/src/dataconnector-dw-2.0/spark-2.0.0/Server/connectivity/thirdparty/poi-ooxml-schemas-3.14.jar\r\n/usr/local/src/dataconnector-dw-2.0/spark-2.0.0/Server/connectivity/thirdparty/slf4j-api-1.6.1.jar\r\n/usr/local/src/dataconnector-dw-2.0/spark-2.0.0/Server/connectivity/thirdparty/slf4j-simple-1.6.1.jar\r\n/usr/local/src/dataconnector-dw-2.0/spark-2.0.0/Server/connectivity/thirdparty/xmlbeans-2.6.0.jar\r\n/usr/local/src/dataconnector-s3-2.0/spark-2.0.0/libs/aws-java-sdk-core-1.11.59.jar\r\n/usr/local/src/dataconnector-s3-2.0/spark-2.0.0/libs/aws-java-sdk-s3-1.11.59.jar\r\n/usr/local/src/dataconnector-s3-2.0/spark-2.0.0/libs/hadoop-aws-2.7.3.jar\r\n/usr/local/src/dataconnector-stocator/spark-2.0.0/libs/aws-java-sdk-1.11.58.jar\r\n/usr/local/src/dataconnector-stocator/spark-2.0.0/libs/aws-java-sdk-acm-1.11.58.jar\r\n/usr/local/src/dataconnector-stocator/spark-2.0.0/libs/aws-java-sdk-api-gateway-1.11.58.jar\r\n/usr/local/src/dataconnector-stocator/spark-2.0.0/libs/aws-java-sdk-applicationautoscaling-1.11.58.jar\r\n/usr/local/src/dataconnector-stocator/spark-2.0.0/libs/aws-java-sdk-autoscaling-1.11.58.jar\r\n/usr/local/src/dataconnector-stocator/spark-2.0.0/libs/aws-java-sdk-budgets-1.11.58.jar\r\n/usr/local/src/dataconnector-stocator/spark-2.0.0/libs/aws-java-sdk-cloudformation-1.11.58.jar\r\n/usr/local/src/dataconnector-stocator/spark-2.0.0/libs/aws-java-sdk-cloudfront-1.11.58.jar\r\n/usr/local/src/dataconnector-stocator/spark-2.0.0/libs/aws-java-sdk-cloudhsm-1.11.58.jar\r\n/usr/local/src/dataconnector-stocator/spark-2.0.0/libs/aws-java-sdk-cloudsearch-1.11.58.jar\r\n/usr/local/src/dataconnector-stocator/spark-2.0.0/libs/aws-java-sdk-cloudtrail-1.11.58.jar\r\n/usr/local/src/dataconnector-stocator/spark-2.0.0/libs/aws-java-sdk-cloudwatch-1.11.58.jar\r\n/usr/local/src/dataconnector-stocator/spark-2.0.0/libs/aws-java-sdk-cloudwatchmetrics-1.11.58.jar\r\n/usr/local/src/dataconnector-stocator/spark-2.0.0/libs/aws-java-sdk-codecommit-1.11.58.jar\r\n/usr/local/src/dataconnector-stocator/spark-2.0.0/libs/aws-java-sdk-codedeploy-1.11.58.jar\r\n/usr/local/src/dataconnector-stocator/spark-2.0.0/libs/aws-java-sdk-codepipeline-1.11.58.jar\r\n/usr/local/src/dataconnector-stocator/spark-2.0.0/libs/aws-java-sdk-cognitoidentity-1.11.58.jar\r\n/usr/local/src/dataconnector-stocator/spark-2.0.0/libs/aws-java-sdk-cognitoidp-1.11.58.jar\r\n/usr/local/src/dataconnector-stocator/spark-2.0.0/libs/aws-java-sdk-cognitosync-1.11.58.jar\r\n/usr/local/src/dataconnector-stocator/spark-2.0.0/libs/aws-java-sdk-config-1.11.58.jar\r\n/usr/local/src/dataconnector-stocator/spark-2.0.0/libs/aws-java-sdk-core-1.11.58.jar\r\n/usr/local/src/dataconnector-stocator/spark-2.0.0/libs/aws-java-sdk-datapipeline-1.11.58.jar\r\n/usr/local/src/dataconnector-stocator/spark-2.0.0/libs/aws-java-sdk-devicefarm-1.11.58.jar\r\n/usr/local/src/dataconnector-stocator/spark-2.0.0/libs/aws-java-sdk-directconnect-1.11.58.jar\r\n/usr/local/src/dataconnector-stocator/spark-2.0.0/libs/aws-java-sdk-directory-1.11.58.jar\r\n/usr/local/src/dataconnector-stocator/spark-2.0.0/libs/aws-java-sdk-discovery-1.11.58.jar\r\n/usr/local/src/dataconnector-stocator/spark-2.0.0/libs/aws-java-sdk-dms-1.11.58.jar\r\n/usr/local/src/dataconnector-stocator/spark-2.0.0/libs/aws-java-sdk-dynamodb-1.11.58.jar\r\n/usr/local/src/dataconnector-stocator/spark-2.0.0/libs/aws-java-sdk-ec2-1.11.58.jar\r\n/usr/local/src/dataconnector-stocator/spark-2.0.0/libs/aws-java-sdk-ecr-1.11.58.jar\r\n/usr/local/src/dataconnector-stocator/spark-2.0.0/libs/aws-java-sdk-ecs-1.11.58.jar\r\n/usr/local/src/dataconnector-stocator/spark-2.0.0/libs/aws-java-sdk-efs-1.11.58.jar\r\n/usr/local/src/dataconnector-stocator/spark-2.0.0/libs/aws-java-sdk-elasticache-1.11.58.jar\r\n/usr/local/src/dataconnector-stocator/spark-2.0.0/libs/aws-java-sdk-elasticbeanstalk-1.11.58.jar\r\n/usr/local/src/dataconnector-stocator/spark-2.0.0/libs/aws-java-sdk-elasticloadbalancing-1.11.58.jar\r\n/usr/local/src/dataconnector-stocator/spark-2.0.0/libs/aws-java-sdk-elasticloadbalancingv2-1.11.58.jar\r\n/usr/local/src/dataconnector-stocator/spark-2.0.0/libs/aws-java-sdk-elasticsearch-1.11.58.jar\r\n/usr/local/src/dataconnector-stocator/spark-2.0.0/libs/aws-java-sdk-elastictranscoder-1.11.58.jar\r\n/usr/local/src/dataconnector-stocator/spark-2.0.0/libs/aws-java-sdk-emr-1.11.58.jar\r\n/usr/local/src/dataconnector-stocator/spark-2.0.0/libs/aws-java-sdk-events-1.11.58.jar\r\n/usr/local/src/dataconnector-stocator/spark-2.0.0/libs/aws-java-sdk-gamelift-1.11.58.jar\r\n/usr/local/src/dataconnector-stocator/spark-2.0.0/libs/aws-java-sdk-glacier-1.11.58.jar\r\n/usr/local/src/dataconnector-stocator/spark-2.0.0/libs/aws-java-sdk-iam-1.11.58.jar\r\n/usr/local/src/dataconnector-stocator/spark-2.0.0/libs/aws-java-sdk-importexport-1.11.58.jar\r\n/usr/local/src/dataconnector-stocator/spark-2.0.0/libs/aws-java-sdk-inspector-1.11.58.jar\r\n/usr/local/src/dataconnector-stocator/spark-2.0.0/libs/aws-java-sdk-iot-1.11.58.jar\r\n/usr/local/src/dataconnector-stocator/spark-2.0.0/libs/aws-java-sdk-kinesis-1.11.58.jar\r\n/usr/local/src/dataconnector-stocator/spark-2.0.0/libs/aws-java-sdk-kms-1.11.58.jar\r\n/usr/local/src/dataconnector-stocator/spark-2.0.0/libs/aws-java-sdk-lambda-1.11.58.jar\r\n/usr/local/src/dataconnector-stocator/spark-2.0.0/libs/aws-java-sdk-logs-1.11.58.jar\r\n/usr/local/src/dataconnector-stocator/spark-2.0.0/libs/aws-java-sdk-machinelearning-1.11.58.jar\r\n/usr/local/src/dataconnector-stocator/spark-2.0.0/libs/aws-java-sdk-marketplacecommerceanalytics-1.11.58.jar\r\n/usr/local/src/dataconnector-stocator/spark-2.0.0/libs/aws-java-sdk-marketplacemeteringservice-1.11.58.jar\r\n/usr/local/src/dataconnector-stocator/spark-2.0.0/libs/aws-java-sdk-models-1.11.58.jar\r\n/usr/local/src/dataconnector-stocator/spark-2.0.0/libs/aws-java-sdk-opsworks-1.11.58.jar\r\n/usr/local/src/dataconnector-stocator/spark-2.0.0/libs/aws-java-sdk-rds-1.11.58.jar\r\n/usr/local/src/dataconnector-stocator/spark-2.0.0/libs/aws-java-sdk-redshift-1.11.58.jar\r\n/usr/local/src/dataconnector-stocator/spark-2.0.0/libs/aws-java-sdk-route53-1.11.58.jar\r\n/usr/local/src/dataconnector-stocator/spark-2.0.0/libs/aws-java-sdk-s3-1.11.58.jar\r\n/usr/local/src/dataconnector-stocator/spark-2.0.0/libs/aws-java-sdk-servermigration-1.11.58.jar\r\n/usr/local/src/dataconnector-stocator/spark-2.0.0/libs/aws-java-sdk-servicecatalog-1.11.58.jar\r\n/usr/local/src/dataconnector-stocator/spark-2.0.0/libs/aws-java-sdk-ses-1.11.58.jar\r\n/usr/local/src/dataconnector-stocator/spark-2.0.0/libs/aws-java-sdk-simpledb-1.11.58.jar\r\n/usr/local/src/dataconnector-stocator/spark-2.0.0/libs/aws-java-sdk-simpleworkflow-1.11.58.jar\r\n/usr/local/src/dataconnector-stocator/spark-2.0.0/libs/aws-java-sdk-snowball-1.11.58.jar\r\n/usr/local/src/dataconnector-stocator/spark-2.0.0/libs/aws-java-sdk-sns-1.11.58.jar\r\n/usr/local/src/dataconnector-stocator/spark-2.0.0/libs/aws-java-sdk-sqs-1.11.58.jar\r\n/usr/local/src/dataconnector-stocator/spark-2.0.0/libs/aws-java-sdk-ssm-1.11.58.jar\r\n/usr/local/src/dataconnector-stocator/spark-2.0.0/libs/aws-java-sdk-storagegateway-1.11.58.jar\r\n/usr/local/src/dataconnector-stocator/spark-2.0.0/libs/aws-java-sdk-sts-1.11.58.jar\r\n/usr/local/src/dataconnector-stocator/spark-2.0.0/libs/aws-java-sdk-support-1.11.58.jar\r\n/usr/local/src/dataconnector-stocator/spark-2.0.0/libs/aws-java-sdk-swf-libraries-1.11.22.jar\r\n/usr/local/src/dataconnector-stocator/spark-2.0.0/libs/aws-java-sdk-waf-1.11.58.jar\r\n/usr/local/src/dataconnector-stocator/spark-2.0.0/libs/aws-java-sdk-workspaces-1.11.58.jar\r\n/usr/local/src/dataconnector-stocator/spark-2.0.0/libs/commons-codec-1.9.jar\r\n/usr/local/src/dataconnector-stocator/spark-2.0.0/libs/commons-logging-1.1.3.jar\r\n/usr/local/src/dataconnector-stocator/spark-2.0.0/libs/httpclient-4.5.2.jar\r\n/usr/local/src/dataconnector-stocator/spark-2.0.0/libs/httpcore-4.4.4.jar\r\n/usr/local/src/dataconnector-stocator/spark-2.0.0/libs/ion-java-1.0.1.jar\r\n/usr/local/src/dataconnector-stocator/spark-2.0.0/libs/jackson-annotations-2.6.0.jar\r\n/usr/local/src/dataconnector-stocator/spark-2.0.0/libs/jackson-core-2.6.6.jar\r\n/usr/local/src/dataconnector-stocator/spark-2.0.0/libs/jackson-databind-2.6.6.jar\r\n/usr/local/src/dataconnector-stocator/spark-2.0.0/libs/jackson-dataformat-cbor-2.6.6.jar\r\n/usr/local/src/dataconnector-stocator/spark-2.0.0/libs/jmespath-java-1.11.58.jar\r\n/usr/local/src/dataconnector-stocator/spark-2.0.0/libs/joda-time-2.8.1.jar\r\n/usr/local/src/dataconnector-stocator/spark-2.0.0/libs/stocator-1.0.13-IBM-SDK.jar\r\n/usr/local/src/datasource-idax/idax_spark_dsx-0.0.1-SNAPSHOT.jar\r\n/usr/local/src/datasource-idax/install.sh\r\n/usr/local/src/datasource-idax/uninstall.sh\r\n/usr/local/src/event-stream-2.0/spark-2.0.0/libs/event-stream-2.0-2.0.0.8.jar\r\n/usr/local/src/event-stream-2.0/spark-2.0.0/libs/kafka-clients-0.10.0.1.jar\r\n/usr/local/src/event-stream-2.0/spark-2.0.0/libs/messagehub.login-1.0.0.jar\r\n/usr/local/src/wml-libs.v15/jars/antlr4-runtime-4.5.jar\r\n/usr/local/src/wml-libs.v15/jars/BigInsightsWesternNERStandard.jar\r\n/usr/local/src/wml-libs.v15/jars/commons-csv-1.1.jar\r\n/usr/local/src/wml-libs.v15/jars/dataquality-1.4.0-20170202.jar\r\n/usr/local/src/wml-libs.v15/jars/htmllexer-2.1.jar\r\n/usr/local/src/wml-libs.v15/jars/htmlparser-2.1.jar\r\n/usr/local/src/wml-libs.v15/jars/ia-stan-classifiers-1.4.0-20170202.jar\r\n/usr/local/src/wml-libs.v15/jars/icu4j-53.1.jar\r\n/usr/local/src/wml-libs.v15/jars/ngwb.oms_api-11.5.1.0.665.jar\r\n/usr/local/src/wml-libs.v15/jars/ngwb.oms_client-11.5.1.0.665.jar\r\n/usr/local/src/wml-libs.v15/jars/ngwb.oms_common-11.5.1.0.665.jar\r\n/usr/local/src/wml-libs.v15/jars/simple-regex-4.6.jar\r\n/usr/local/src/wml-libs.v15/jars/stan_api-201611220127.jar\r\n/usr/local/src/wml-libs.v15/jars/system-t-runtime-4.6-biginsights.jar\r\n/usr/local/src/wml-libs.v15/jars/univocity-parsers-1.5.1.jar\r\n/usr/local/src/wml-libs.v15/jars/wink-json4j-provider-1.4.jar\r\n/usr/local/src/wml-libs.v15/spark-2.1/dataconnector-dw-2.1/commons-pool2-2.4.2.jar\r\n/usr/local/src/wml-libs.v15/spark-2.1/dataconnector-dw-2.1/greenplumdriver-5.1.jar\r\n/usr/local/src/wml-libs.v15/spark-2.1/dataconnector-dw-2.1/hivedriver-5.1.jar\r\n/usr/local/src/wml-libs.v15/spark-2.1/dataconnector-dw-2.1/impaladriver-5.1.jar\r\n/usr/local/src/wml-libs.v15/spark-2.1/dataconnector-dw-2.1/informixdriver-5.1.jar\r\n/usr/local/src/wml-libs.v15/spark-2.1/dataconnector-dw-2.1/mysqldriver-5.1.jar\r\n/usr/local/src/wml-libs.v15/spark-2.1/dataconnector-dw-2.1/nzjdbc3-7.2.1.3.jar\r\n/usr/local/src/wml-libs.v15/spark-2.1/dataconnector-dw-2.1/oracledriver-5.1.jar\r\n/usr/local/src/wml-libs.v15/spark-2.1/dataconnector-dw-2.1/postgresqldriver-5.1.jar\r\n/usr/local/src/wml-libs.v15/spark-2.1/dataconnector-dw-2.1/redshiftdriver-5.1.jar\r\n/usr/local/src/wml-libs.v15/spark-2.1/dataconnector-dw-2.1/sforcedriver-5.1.jar\r\n/usr/local/src/wml-libs.v15/spark-2.1/dataconnector-dw-2.1/sqlserverdriver-5.1.jar\r\n/usr/local/src/wml-libs.v15/spark-2.1/dataconnector-dw-2.1/sybasedriver-5.1.jar\r\n/usr/local/src/wml-libs.v15/spark-2.1/dataconnector-dw-2.1/tdgssconfig-14.10.0.1.jar\r\n/usr/local/src/wml-libs.v15/spark-2.1/dataconnector-dw-2.1/terajdbc4-15.10.0.14.jar\r\n/usr/local/src/wml-libs.v15/spark-2.1/dataconnector-dw-2.1/wdp-connect-library-api-1.0.237.jar\r\n/usr/local/src/wml-libs.v15/spark-2.1/dataconnector-dw-2.1/wdp-connect-library-file-1.0.237.jar\r\n/usr/local/src/wml-libs.v15/spark-2.1/dataconnector-dw-2.1/wdp-connect-library-file-amazons3-1.0.237.jar\r\n/usr/local/src/wml-libs.v15/spark-2.1/dataconnector-dw-2.1/wdp-connect-library-file-box-1.0.237.jar\r\n/usr/local/src/wml-libs.v15/spark-2.1/dataconnector-dw-2.1/wdp-connect-library-file-cloudant-1.0.237.jar\r\n/usr/local/src/wml-libs.v15/spark-2.1/dataconnector-dw-2.1/wdp-connect-library-file-cos-1.0.237.jar\r\n/usr/local/src/wml-libs.v15/spark-2.1/dataconnector-dw-2.1/wdp-connect-library-file-dropbox-1.0.237.jar\r\n/usr/local/src/wml-libs.v15/spark-2.1/dataconnector-dw-2.1/wdp-connect-library-file-localfs-1.0.237.jar\r\n/usr/local/src/wml-libs.v15/spark-2.1/dataconnector-dw-2.1/wdp-connect-library-file-swift-1.0.237.jar\r\n/usr/local/src/wml-libs.v15/spark-2.1/dataconnector-dw-2.1/wdp-connect-library-file-watson-1.0.237.jar\r\n/usr/local/src/wml-libs.v15/spark-2.1/dataconnector-dw-2.1/wdp-connect-library-file-webhdfs-1.0.237.jar\r\n/usr/local/src/wml-libs.v15/spark-2.1/dataconnector-dw-2.1/wdp-connect-library-jdbc-1.0.237.jar\r\n/usr/local/src/wml-libs.v15/spark-2.1/dataconnector-dw-2.1/wdp-connect-library-jdbc-azuresql-1.0.237.jar\r\n/usr/local/src/wml-libs.v15/spark-2.1/dataconnector-dw-2.1/wdp-connect-library-jdbc-dashdb-1.0.237.jar\r\n/usr/local/src/wml-libs.v15/spark-2.1/dataconnector-dw-2.1/wdp-connect-library-jdbc-db2-1.0.237.jar\r\n/usr/local/src/wml-libs.v15/spark-2.1/dataconnector-dw-2.1/wdp-connect-library-jdbc-db2zos-1.0.237.jar\r\n/usr/local/src/wml-libs.v15/spark-2.1/dataconnector-dw-2.1/wdp-connect-library-jdbc-greenplum-1.0.237.jar\r\n/usr/local/src/wml-libs.v15/spark-2.1/dataconnector-dw-2.1/wdp-connect-library-jdbc-hive-1.0.237.jar\r\n/usr/local/src/wml-libs.v15/spark-2.1/dataconnector-dw-2.1/wdp-connect-library-jdbc-impala-1.0.237.jar\r\n/usr/local/src/wml-libs.v15/spark-2.1/dataconnector-dw-2.1/wdp-connect-library-jdbc-informix-1.0.237.jar\r\n/usr/local/src/wml-libs.v15/spark-2.1/dataconnector-dw-2.1/wdp-connect-library-jdbc-mysql-1.0.237.jar\r\n/usr/local/src/wml-libs.v15/spark-2.1/dataconnector-dw-2.1/wdp-connect-library-jdbc-mysqlcompose-1.0.237.jar\r\n/usr/local/src/wml-libs.v15/spark-2.1/dataconnector-dw-2.1/wdp-connect-library-jdbc-netezza-1.0.237.jar\r\n/usr/local/src/wml-libs.v15/spark-2.1/dataconnector-dw-2.1/wdp-connect-library-jdbc-oracle-1.0.237.jar\r\n/usr/local/src/wml-libs.v15/spark-2.1/dataconnector-dw-2.1/wdp-connect-library-jdbc-postgresql-1.0.237.jar\r\n/usr/local/src/wml-libs.v15/spark-2.1/dataconnector-dw-2.1/wdp-connect-library-jdbc-postgresqlcompose-1.0.237.jar\r\n/usr/local/src/wml-libs.v15/spark-2.1/dataconnector-dw-2.1/wdp-connect-library-jdbc-redshift-1.0.237.jar\r\n/usr/local/src/wml-libs.v15/spark-2.1/dataconnector-dw-2.1/wdp-connect-library-jdbc-salesforce-1.0.237.jar\r\n/usr/local/src/wml-libs.v15/spark-2.1/dataconnector-dw-2.1/wdp-connect-library-jdbc-sqlserver-1.0.237.jar\r\n/usr/local/src/wml-libs.v15/spark-2.1/dataconnector-dw-2.1/wdp-connect-library-jdbc-sybase-1.0.237.jar\r\n/usr/local/src/wml-libs.v15/spark-2.1/dataconnector-dw-2.1/wdp-connect-library-jdbc-sybaseiq-1.0.237.jar\r\n/usr/local/src/wml-libs.v15/spark-2.1/dataconnector-dw-2.1/wdp-connect-library-jdbc-teradata-1.0.237.jar\r\n/usr/local/src/wml-libs.v15/spark-2.1/dataconnector-dw-2.1/wdp-connect-library-json-1.0.237.jar\r\n/usr/local/src/wml-libs.v15/spark-2.1/dataconnector-dw-2.1/wdp-connect-library-spark-1.0.237.jar\r\n/usr/local/src/wml-libs.v15/spark-2.1/jars/amqp-client-4.2.0.jar\r\n/usr/local/src/wml-libs.v15/spark-2.1/jars/ml-algorithms-scala_2.11-1.1.80-201712110402.jar\r\n/usr/local/src/wml-libs.v15/spark-2.1/jars/ml-event-client-scala-library-0.1.55-201709150512-allinone.jar\r\n/usr/local/src/wml-libs.v15/spark-2.1/jars/ml-pipeline-scala-1.1.84-201709070426.jar\r\n/usr/local/src/wml-libs.v15/spark-2.1/jars/ml-utils-scala-0.2.98-201710200721.jar\r\n/usr/local/src/wml-libs.v15/spark-2.1/jars/ngp-catalog-spark-2.0-0.1.12-201704211031.jar\r\n/usr/local/src/wml-libs.v15/spark-2.1/jars/pipeline-scala-spark-2.0-0.1.507-201708010855.jar\r\n/usr/local/src/wml-libs.v15/spark-2.1/jars/repository-scala-0.1.408-201801120120-allinone.jar\r\n/usr/local/src/wml-libs.v15/spark-2.1/jars/repository-scala-v3-0.1.408-201801120120-allinone.jar\r\n/usr/local/src/wml-libs.v15/spark-2.1/jars/tika-app-2.0-1.14.jar\r\n/usr/local/src/wml-libs.v15/spark-2.1/jars/tika-core-2.0-1.14.jar\r\n/usr/local/src/wml-libs.v15/spark-2.1/jars/tika-parsers-2.0-1.14.jar\r\n/usr/local/src/wml-libs.v15/spark-2.1/jars/transformation-scala-spark-2.0-0.1.123-201711171845.jar\r\n/usr/local/src/wml-libs.v15/spark-2.1/jars/util-scala-spark-2.0-0.1.33-201707180407.jar\r\n/usr/local/src/wml-libs.v15/spark-2.1/jars/wml-ingestion-scala-spark-2.0-0.1.58-201712140448.jar\r\n/usr/local/src/wml-libs.v15/spark-2.1/jars/wml-scala-model2json-1.0.0_2.11_2.0.jar\r\n/usr/local/src/wml-libs.v15/spark-2.1/jars/wml-scala-modelviewer-1.0.0_2.11_2.0.jar\r\n\r\n/gpfs/fs01/user/s3b2-c7634938ff52ab-a5f39cf201a0/data/libs:\r\nmongo-spark-connector_2.10-2.1.1.jar  pixiedust.jar\r\nmongo-spark-connector_2.11-2.1.1.jar  postgresql-9.4.1207.jre7.jar\r\n\r\n/usr/local/src/analytic-libs/spark-2.1/python:\r\nspss\r\n\r\n/usr/local/src/analytic-libs/spark-2.1/python-2.7:\r\nsystemml  systemml-0.15.0.dist-info\r\n\r\n/usr/local/src/dataconnector-dw-2.0/spark-2.0.0/Server/connectivity/config:\r\nconnector-factories.properties\r\n\r\n/usr/local/src/dataconnector-dw-2.0/spark-2.0.0/Server/connectivity/thirdparty/aws:\r\naws-java-sdk-1.7.3.jar\t       jackson-core-2.4.4.jar\r\njackson-annotations-2.4.4.jar  jackson-databind-2.4.4.jar\r\n"
                }
            ],
            "metadata": {}
        },
        {
            "source": "!pip install pymongo",
            "cell_type": "code",
            "execution_count": 10,
            "outputs": [
                {
                    "output_type": "stream",
                    "name": "stdout",
                    "text": "Collecting pymongo\n  Downloading pymongo-3.6.0-cp27-cp27mu-manylinux1_x86_64.whl (381kB)\n\u001b[K    100% |\u2588\u2588\u2588\u2588\u2588\u2588\u2588\u2588\u2588\u2588\u2588\u2588\u2588\u2588\u2588\u2588\u2588\u2588\u2588\u2588\u2588\u2588\u2588\u2588\u2588\u2588\u2588\u2588\u2588\u2588\u2588\u2588| 389kB 787kB/s eta 0:00:01\n\u001b[?25hInstalling collected packages: pymongo\nSuccessfully installed pymongo-3.6.0\n"
                }
            ],
            "metadata": {}
        },
        {
            "source": "import pymongo\nfrom pymongo import MongoClient",
            "cell_type": "code",
            "execution_count": 28,
            "outputs": [],
            "metadata": {}
        },
        {
            "source": "#client = MongoClient('184.173.1.200', 31296)\nclient = MongoClient('mongodb://184.173.1.200:31296/')",
            "cell_type": "code",
            "execution_count": 15,
            "outputs": [],
            "metadata": {}
        },
        {
            "source": "mydb = client.test_database_1\nmy_collection = mydb.my_collection",
            "cell_type": "code",
            "execution_count": 31,
            "outputs": [],
            "metadata": {}
        },
        {
            "source": "import datetime\nmyrecord = {\"author\": \"Duke\",\n                \"title\" : \"PyMongo 101\",\n                \"tags\" : [\"MongoDB\", \"PyMongo\", \"Tutorial\"],\n                \"date\" : datetime.datetime.utcnow()\n                }",
            "cell_type": "code",
            "execution_count": 32,
            "outputs": [],
            "metadata": {}
        },
        {
            "source": "record_id = mydb.my_collection.insert_one(myrecord)",
            "cell_type": "code",
            "execution_count": 36,
            "outputs": [],
            "metadata": {}
        },
        {
            "source": "record_id",
            "cell_type": "code",
            "execution_count": 37,
            "outputs": [
                {
                    "output_type": "execute_result",
                    "metadata": {},
                    "data": {
                        "text/plain": "<pymongo.results.InsertOneResult at 0x7fcf74653d88>"
                    },
                    "execution_count": 37
                }
            ],
            "metadata": {}
        },
        {
            "source": "mydb.collection_names()",
            "cell_type": "code",
            "execution_count": 38,
            "outputs": [
                {
                    "output_type": "execute_result",
                    "metadata": {},
                    "data": {
                        "text/plain": "[u'my_collection', u'mycollection']"
                    },
                    "execution_count": 38
                }
            ],
            "metadata": {}
        },
        {
            "source": "my_collection.count()",
            "cell_type": "code",
            "execution_count": 39,
            "outputs": [
                {
                    "output_type": "execute_result",
                    "metadata": {},
                    "data": {
                        "text/plain": "1"
                    },
                    "execution_count": 39
                }
            ],
            "metadata": {}
        },
        {
            "source": "for post in mydb.my_collection.find():\n    print(post)",
            "cell_type": "code",
            "execution_count": 41,
            "outputs": [
                {
                    "output_type": "stream",
                    "name": "stdout",
                    "text": "{u'date': datetime.datetime(2018, 1, 22, 21, 36, 40, 904000), u'_id': ObjectId('5a6659733c76f0375ad9315f'), u'author': u'Duke', u'tags': [u'MongoDB', u'PyMongo', u'Tutorial'], u'title': u'PyMongo 101'}\n"
                }
            ],
            "metadata": {}
        },
        {
            "source": "",
            "cell_type": "code",
            "execution_count": null,
            "outputs": [],
            "metadata": {}
        }
    ],
    "nbformat": 4,
    "metadata": {
        "kernelspec": {
            "display_name": "Python 2 with Spark 2.1",
            "name": "python2-spark21",
            "language": "python"
        },
        "language_info": {
            "mimetype": "text/x-python",
            "nbconvert_exporter": "python",
            "version": "2.7.11",
            "name": "python",
            "pygments_lexer": "ipython2",
            "file_extension": ".py",
            "codemirror_mode": {
                "version": 2,
                "name": "ipython"
            }
        }
    }
}