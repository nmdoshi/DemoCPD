{
    "nbformat_minor": 1,
    "cells": [
        {
            "source": "import pandas as pd\npd.set_option('display.max_colwidth', -1)\n\ndata = [{'text':'Too short.'},\n        {'text':'This sentence is just right.'},\n        {'text':'This sentence is just right. However, now I have made it too long.'}]\ndf = pd.DataFrame(data)\ndf.head()",
            "cell_type": "code",
            "execution_count": 1,
            "outputs": [
                {
                    "output_type": "execute_result",
                    "metadata": {},
                    "data": {
                        "text/html": "<div>\n<style scoped>\n    .dataframe tbody tr th:only-of-type {\n        vertical-align: middle;\n    }\n\n    .dataframe tbody tr th {\n        vertical-align: top;\n    }\n\n    .dataframe thead th {\n        text-align: right;\n    }\n</style>\n<table border=\"1\" class=\"dataframe\">\n  <thead>\n    <tr style=\"text-align: right;\">\n      <th></th>\n      <th>text</th>\n    </tr>\n  </thead>\n  <tbody>\n    <tr>\n      <th>0</th>\n      <td>Too short.</td>\n    </tr>\n    <tr>\n      <th>1</th>\n      <td>This sentence is just right.</td>\n    </tr>\n    <tr>\n      <th>2</th>\n      <td>This sentence is just right. However, now I have made it too long.</td>\n    </tr>\n  </tbody>\n</table>\n</div>",
                        "text/plain": "                                                                 text\n0  Too short.                                                        \n1  This sentence is just right.                                      \n2  This sentence is just right. However, now I have made it too long."
                    },
                    "execution_count": 1
                }
            ],
            "metadata": {}
        },
        {
            "source": "df[\"text\"] = df[\"text\"].str[:28]\ndf.head()",
            "cell_type": "code",
            "execution_count": 2,
            "outputs": [
                {
                    "output_type": "execute_result",
                    "metadata": {},
                    "data": {
                        "text/html": "<div>\n<style scoped>\n    .dataframe tbody tr th:only-of-type {\n        vertical-align: middle;\n    }\n\n    .dataframe tbody tr th {\n        vertical-align: top;\n    }\n\n    .dataframe thead th {\n        text-align: right;\n    }\n</style>\n<table border=\"1\" class=\"dataframe\">\n  <thead>\n    <tr style=\"text-align: right;\">\n      <th></th>\n      <th>text</th>\n    </tr>\n  </thead>\n  <tbody>\n    <tr>\n      <th>0</th>\n      <td>Too short.</td>\n    </tr>\n    <tr>\n      <th>1</th>\n      <td>This sentence is just right.</td>\n    </tr>\n    <tr>\n      <th>2</th>\n      <td>This sentence is just right.</td>\n    </tr>\n  </tbody>\n</table>\n</div>",
                        "text/plain": "                           text\n0  Too short.                  \n1  This sentence is just right.\n2  This sentence is just right."
                    },
                    "execution_count": 2
                }
            ],
            "metadata": {}
        },
        {
            "source": "",
            "cell_type": "code",
            "execution_count": null,
            "outputs": [],
            "metadata": {}
        }
    ],
    "nbformat": 4,
    "metadata": {
        "kernelspec": {
            "display_name": "Python 3.5",
            "name": "python3",
            "language": "python"
        },
        "language_info": {
            "mimetype": "text/x-python",
            "nbconvert_exporter": "python",
            "version": "3.5.4",
            "name": "python",
            "file_extension": ".py",
            "pygments_lexer": "ipython3",
            "codemirror_mode": {
                "version": 3,
                "name": "ipython"
            }
        }
    }
}